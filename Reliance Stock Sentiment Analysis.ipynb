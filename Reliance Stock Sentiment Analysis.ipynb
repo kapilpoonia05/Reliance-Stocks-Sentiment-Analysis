{
 "cells": [
  {
   "cell_type": "markdown",
   "id": "57adb34c-869e-4f5c-96cd-7b204a5895cb",
   "metadata": {},
   "source": [
    "# **Web Scrapping of News Articles of reliance Stocks**"
   ]
  },
  {
   "cell_type": "code",
   "execution_count": 1,
   "id": "6d792c71-71e2-43c9-ab4b-d6b2a4da2075",
   "metadata": {},
   "outputs": [],
   "source": [
    "import requests\n",
    "from bs4 import BeautifulSoup\n",
    "import pandas as pd\n",
    "import datetime\n",
    "\n",
    "def scrape_news(query, start_date, end_date):\n",
    "    articles = []\n",
    "    url = f\"https://news.google.com/rss/search?q={query}+after:{start_date}+before:{end_date}\"\n",
    "    response = requests.get(url)\n",
    "    soup = BeautifulSoup(response.content, 'xml')\n",
    "    items = soup.find_all('item')\n",
    "    \n",
    "    for item in items:\n",
    "        title = item.title.text\n",
    "        link = item.link.text\n",
    "        pub_date = item.pubDate.text\n",
    "        articles.append({'title': title, 'link': link, 'pub_date': pub_date})\n",
    "    return pd.DataFrame(articles)\n",
    "\n",
    "# Define the date range and query\n",
    "start_date = '2021-01-01'\n",
    "end_date = '2023-12-31'\n",
    "query = \"Reliance stocks\"\n",
    "\n",
    "# Convert start and end dates to datetime objects\n",
    "start_date_dt = datetime.datetime.strptime(start_date, '%Y-%m-%d')\n",
    "end_date_dt = datetime.datetime.strptime(end_date, '%Y-%m-%d')\n",
    "\n",
    "# Initialize an empty DataFrame to store all articles\n",
    "all_articles = pd.DataFrame()\n",
    "\n",
    "# Loop through each month in the date range\n",
    "current_date = start_date_dt\n",
    "while current_date < end_date_dt:\n",
    "    # Define the next month's start date\n",
    "    next_date = current_date + datetime.timedelta(days=30)\n",
    "    \n",
    "    # Format dates to strings\n",
    "    start_str = current_date.strftime('%Y-%m-%d')\n",
    "    end_str = next_date.strftime('%Y-%m-%d')\n",
    "    \n",
    "    # Scrape news for the current month\n",
    "    month_articles = scrape_news(query, start_str, end_str)\n",
    "    \n",
    "    # Append month articles to the all_articles DataFrame\n",
    "    all_articles = pd.concat([all_articles, month_articles], ignore_index=True)\n",
    "    \n",
    "    # Move to the next month\n",
    "    current_date = next_date\n",
    "\n",
    "# Save all articles to a CSV file\n",
    "all_articles.to_csv('reliance_news.csv', index=False)\n"
   ]
  },
  {
   "cell_type": "code",
   "execution_count": 2,
   "id": "809afab4-7288-4f4c-bae1-af5899489a07",
   "metadata": {},
   "outputs": [
    {
     "data": {
      "text/html": [
       "<div>\n",
       "<style scoped>\n",
       "    .dataframe tbody tr th:only-of-type {\n",
       "        vertical-align: middle;\n",
       "    }\n",
       "\n",
       "    .dataframe tbody tr th {\n",
       "        vertical-align: top;\n",
       "    }\n",
       "\n",
       "    .dataframe thead th {\n",
       "        text-align: right;\n",
       "    }\n",
       "</style>\n",
       "<table border=\"1\" class=\"dataframe\">\n",
       "  <thead>\n",
       "    <tr style=\"text-align: right;\">\n",
       "      <th></th>\n",
       "      <th>title</th>\n",
       "      <th>link</th>\n",
       "      <th>pub_date</th>\n",
       "    </tr>\n",
       "  </thead>\n",
       "  <tbody>\n",
       "    <tr>\n",
       "      <th>0</th>\n",
       "      <td>Reliance Ind, SBI Life, IRCTC: Here are the to...</td>\n",
       "      <td>https://news.google.com/rss/articles/CBMiiwFod...</td>\n",
       "      <td>Fri, 01 Jan 2021 08:00:00 GMT</td>\n",
       "    </tr>\n",
       "    <tr>\n",
       "      <th>1</th>\n",
       "      <td>Stocks To Watch: Reliance Industries, Bajaj Fi...</td>\n",
       "      <td>https://news.google.com/rss/articles/CBMiggFod...</td>\n",
       "      <td>Thu, 21 Jan 2021 08:00:00 GMT</td>\n",
       "    </tr>\n",
       "    <tr>\n",
       "      <th>2</th>\n",
       "      <td>Sensex at 50000: Six stocks that have been par...</td>\n",
       "      <td>https://news.google.com/rss/articles/CBMilgFod...</td>\n",
       "      <td>Thu, 21 Jan 2021 08:00:00 GMT</td>\n",
       "    </tr>\n",
       "    <tr>\n",
       "      <th>3</th>\n",
       "      <td>Karnataka farmers sell paddy to Reliance Retai...</td>\n",
       "      <td>https://news.google.com/rss/articles/CBMicWh0d...</td>\n",
       "      <td>Mon, 11 Jan 2021 08:00:00 GMT</td>\n",
       "    </tr>\n",
       "    <tr>\n",
       "      <th>4</th>\n",
       "      <td>Sensex tanks over 500 points, Nifty ends below...</td>\n",
       "      <td>https://news.google.com/rss/articles/CBMieWh0d...</td>\n",
       "      <td>Mon, 25 Jan 2021 08:00:00 GMT</td>\n",
       "    </tr>\n",
       "  </tbody>\n",
       "</table>\n",
       "</div>"
      ],
      "text/plain": [
       "                                               title  \\\n",
       "0  Reliance Ind, SBI Life, IRCTC: Here are the to...   \n",
       "1  Stocks To Watch: Reliance Industries, Bajaj Fi...   \n",
       "2  Sensex at 50000: Six stocks that have been par...   \n",
       "3  Karnataka farmers sell paddy to Reliance Retai...   \n",
       "4  Sensex tanks over 500 points, Nifty ends below...   \n",
       "\n",
       "                                                link  \\\n",
       "0  https://news.google.com/rss/articles/CBMiiwFod...   \n",
       "1  https://news.google.com/rss/articles/CBMiggFod...   \n",
       "2  https://news.google.com/rss/articles/CBMilgFod...   \n",
       "3  https://news.google.com/rss/articles/CBMicWh0d...   \n",
       "4  https://news.google.com/rss/articles/CBMieWh0d...   \n",
       "\n",
       "                        pub_date  \n",
       "0  Fri, 01 Jan 2021 08:00:00 GMT  \n",
       "1  Thu, 21 Jan 2021 08:00:00 GMT  \n",
       "2  Thu, 21 Jan 2021 08:00:00 GMT  \n",
       "3  Mon, 11 Jan 2021 08:00:00 GMT  \n",
       "4  Mon, 25 Jan 2021 08:00:00 GMT  "
      ]
     },
     "execution_count": 2,
     "metadata": {},
     "output_type": "execute_result"
    }
   ],
   "source": [
    "news_df = pd.read_csv('reliance_news.csv')\n",
    "news_df.head()"
   ]
  },
  {
   "cell_type": "code",
   "execution_count": 3,
   "id": "92ba7a42-16d1-4b20-b76e-b008dcc1caed",
   "metadata": {},
   "outputs": [
    {
     "data": {
      "text/plain": [
       "'https://news.google.com/rss/articles/CBMiiwFodHRwczovL3d3dy5idXNpbmVzcy1zdGFuZGFyZC5jb20vcG9kY2FzdC9tYXJrZXRzL3JlbGlhbmNlLWluZC1zYmktbGlmZS1pcmN0Yy1oZXJlLWFyZS10aGUtdG9wLXN0b2Nrcy10by1pbnZlc3QtaW4tMjAyMS0xMjEwMTAxMDA5NjFfMS5odG1s0gGPAWh0dHBzOi8vd3d3LmJ1c2luZXNzLXN0YW5kYXJkLmNvbS9hbXAvcG9kY2FzdC9tYXJrZXRzL3JlbGlhbmNlLWluZC1zYmktbGlmZS1pcmN0Yy1oZXJlLWFyZS10aGUtdG9wLXN0b2Nrcy10by1pbnZlc3QtaW4tMjAyMS0xMjEwMTAxMDA5NjFfMS5odG1s?oc=5'"
      ]
     },
     "execution_count": 3,
     "metadata": {},
     "output_type": "execute_result"
    }
   ],
   "source": [
    "news_df['link'][0]"
   ]
  },
  {
   "cell_type": "markdown",
   "id": "968aa442-704e-401a-b019-b744ac48fe1d",
   "metadata": {},
   "source": [
    "# **Applying NLP for pre processing of news text**"
   ]
  },
  {
   "cell_type": "code",
   "execution_count": 4,
   "id": "cb409cf0-ddb4-4b50-8f7c-af705f971421",
   "metadata": {},
   "outputs": [
    {
     "name": "stderr",
     "output_type": "stream",
     "text": [
      "[nltk_data] Downloading package stopwords to\n",
      "[nltk_data]     C:\\Users\\risha\\AppData\\Roaming\\nltk_data...\n",
      "[nltk_data]   Package stopwords is already up-to-date!\n",
      "[nltk_data] Downloading package punkt to\n",
      "[nltk_data]     C:\\Users\\risha\\AppData\\Roaming\\nltk_data...\n",
      "[nltk_data]   Package punkt is already up-to-date!\n"
     ]
    }
   ],
   "source": [
    "import nltk\n",
    "from nltk.corpus import stopwords\n",
    "from nltk.tokenize import word_tokenize\n",
    "import re\n",
    "\n",
    "nltk.download('stopwords')\n",
    "nltk.download('punkt')\n",
    "\n",
    "def clean_text(text):\n",
    "    text = re.sub(r'http\\S+', '', text)\n",
    "    text = re.sub(r'\\W', ' ', text)\n",
    "    text = re.sub(r'\\s+', ' ', text)\n",
    "    text = text.lower()\n",
    "    tokens = word_tokenize(text)\n",
    "    tokens = [word for word in tokens if word not in stopwords.words('english')]\n",
    "    return ' '.join(tokens)\n",
    "\n",
    "news_df['cleaned_text'] = news_df['title'].apply(clean_text)\n"
   ]
  },
  {
   "cell_type": "code",
   "execution_count": 5,
   "id": "0a19fcda-481d-455f-97b0-432ae0390fdb",
   "metadata": {},
   "outputs": [
    {
     "data": {
      "text/html": [
       "<div>\n",
       "<style scoped>\n",
       "    .dataframe tbody tr th:only-of-type {\n",
       "        vertical-align: middle;\n",
       "    }\n",
       "\n",
       "    .dataframe tbody tr th {\n",
       "        vertical-align: top;\n",
       "    }\n",
       "\n",
       "    .dataframe thead th {\n",
       "        text-align: right;\n",
       "    }\n",
       "</style>\n",
       "<table border=\"1\" class=\"dataframe\">\n",
       "  <thead>\n",
       "    <tr style=\"text-align: right;\">\n",
       "      <th></th>\n",
       "      <th>title</th>\n",
       "      <th>link</th>\n",
       "      <th>pub_date</th>\n",
       "      <th>cleaned_text</th>\n",
       "    </tr>\n",
       "  </thead>\n",
       "  <tbody>\n",
       "    <tr>\n",
       "      <th>0</th>\n",
       "      <td>Reliance Ind, SBI Life, IRCTC: Here are the to...</td>\n",
       "      <td>https://news.google.com/rss/articles/CBMiiwFod...</td>\n",
       "      <td>Fri, 01 Jan 2021 08:00:00 GMT</td>\n",
       "      <td>reliance ind sbi life irctc top stocks invest ...</td>\n",
       "    </tr>\n",
       "    <tr>\n",
       "      <th>1</th>\n",
       "      <td>Stocks To Watch: Reliance Industries, Bajaj Fi...</td>\n",
       "      <td>https://news.google.com/rss/articles/CBMiggFod...</td>\n",
       "      <td>Thu, 21 Jan 2021 08:00:00 GMT</td>\n",
       "      <td>stocks watch reliance industries bajaj finance...</td>\n",
       "    </tr>\n",
       "    <tr>\n",
       "      <th>2</th>\n",
       "      <td>Sensex at 50000: Six stocks that have been par...</td>\n",
       "      <td>https://news.google.com/rss/articles/CBMilgFod...</td>\n",
       "      <td>Thu, 21 Jan 2021 08:00:00 GMT</td>\n",
       "      <td>sensex 50000 six stocks part index dream run b...</td>\n",
       "    </tr>\n",
       "    <tr>\n",
       "      <th>3</th>\n",
       "      <td>Karnataka farmers sell paddy to Reliance Retai...</td>\n",
       "      <td>https://news.google.com/rss/articles/CBMicWh0d...</td>\n",
       "      <td>Mon, 11 Jan 2021 08:00:00 GMT</td>\n",
       "      <td>karnataka farmers sell paddy reliance retail m...</td>\n",
       "    </tr>\n",
       "    <tr>\n",
       "      <th>4</th>\n",
       "      <td>Sensex tanks over 500 points, Nifty ends below...</td>\n",
       "      <td>https://news.google.com/rss/articles/CBMieWh0d...</td>\n",
       "      <td>Mon, 25 Jan 2021 08:00:00 GMT</td>\n",
       "      <td>sensex tanks 500 points nifty ends 14 250 auto...</td>\n",
       "    </tr>\n",
       "  </tbody>\n",
       "</table>\n",
       "</div>"
      ],
      "text/plain": [
       "                                               title  \\\n",
       "0  Reliance Ind, SBI Life, IRCTC: Here are the to...   \n",
       "1  Stocks To Watch: Reliance Industries, Bajaj Fi...   \n",
       "2  Sensex at 50000: Six stocks that have been par...   \n",
       "3  Karnataka farmers sell paddy to Reliance Retai...   \n",
       "4  Sensex tanks over 500 points, Nifty ends below...   \n",
       "\n",
       "                                                link  \\\n",
       "0  https://news.google.com/rss/articles/CBMiiwFod...   \n",
       "1  https://news.google.com/rss/articles/CBMiggFod...   \n",
       "2  https://news.google.com/rss/articles/CBMilgFod...   \n",
       "3  https://news.google.com/rss/articles/CBMicWh0d...   \n",
       "4  https://news.google.com/rss/articles/CBMieWh0d...   \n",
       "\n",
       "                        pub_date  \\\n",
       "0  Fri, 01 Jan 2021 08:00:00 GMT   \n",
       "1  Thu, 21 Jan 2021 08:00:00 GMT   \n",
       "2  Thu, 21 Jan 2021 08:00:00 GMT   \n",
       "3  Mon, 11 Jan 2021 08:00:00 GMT   \n",
       "4  Mon, 25 Jan 2021 08:00:00 GMT   \n",
       "\n",
       "                                        cleaned_text  \n",
       "0  reliance ind sbi life irctc top stocks invest ...  \n",
       "1  stocks watch reliance industries bajaj finance...  \n",
       "2  sensex 50000 six stocks part index dream run b...  \n",
       "3  karnataka farmers sell paddy reliance retail m...  \n",
       "4  sensex tanks 500 points nifty ends 14 250 auto...  "
      ]
     },
     "execution_count": 5,
     "metadata": {},
     "output_type": "execute_result"
    }
   ],
   "source": [
    "news_df.head()"
   ]
  },
  {
   "cell_type": "markdown",
   "id": "5c651d44-8cf8-4328-9b05-245fac659799",
   "metadata": {},
   "source": [
    "# **Extracting the details of Reliance's stock price from 1st jan 2021 to 31st Dec 2023**"
   ]
  },
  {
   "cell_type": "code",
   "execution_count": 8,
   "id": "240e15f3-b8c6-4a71-8889-8a129ff04a6d",
   "metadata": {},
   "outputs": [
    {
     "name": "stderr",
     "output_type": "stream",
     "text": [
      "[*********************100%%**********************]  1 of 1 completed\n"
     ]
    }
   ],
   "source": [
    "import yfinance as yf\n",
    "\n",
    "reliance_stock = yf.download('RELIANCE.NS', start=start_date, end=end_date)\n",
    "reliance_stock.reset_index(inplace=True)\n",
    "reliance_stock.to_csv('reliance_stock_prices.csv', index=False)"
   ]
  },
  {
   "cell_type": "code",
   "execution_count": 9,
   "id": "adeeb92b-571e-4f40-8c85-3bd48cfdb690",
   "metadata": {},
   "outputs": [
    {
     "data": {
      "text/html": [
       "<div>\n",
       "<style scoped>\n",
       "    .dataframe tbody tr th:only-of-type {\n",
       "        vertical-align: middle;\n",
       "    }\n",
       "\n",
       "    .dataframe tbody tr th {\n",
       "        vertical-align: top;\n",
       "    }\n",
       "\n",
       "    .dataframe thead th {\n",
       "        text-align: right;\n",
       "    }\n",
       "</style>\n",
       "<table border=\"1\" class=\"dataframe\">\n",
       "  <thead>\n",
       "    <tr style=\"text-align: right;\">\n",
       "      <th></th>\n",
       "      <th>Date</th>\n",
       "      <th>Open</th>\n",
       "      <th>High</th>\n",
       "      <th>Low</th>\n",
       "      <th>Close</th>\n",
       "      <th>Adj Close</th>\n",
       "      <th>Volume</th>\n",
       "    </tr>\n",
       "  </thead>\n",
       "  <tbody>\n",
       "    <tr>\n",
       "      <th>0</th>\n",
       "      <td>2021-01-01</td>\n",
       "      <td>1834.923340</td>\n",
       "      <td>1843.230347</td>\n",
       "      <td>1829.385376</td>\n",
       "      <td>1834.461914</td>\n",
       "      <td>1815.729614</td>\n",
       "      <td>5007587</td>\n",
       "    </tr>\n",
       "    <tr>\n",
       "      <th>1</th>\n",
       "      <td>2021-01-04</td>\n",
       "      <td>1841.476685</td>\n",
       "      <td>1844.984009</td>\n",
       "      <td>1816.463379</td>\n",
       "      <td>1837.553955</td>\n",
       "      <td>1818.790039</td>\n",
       "      <td>12256767</td>\n",
       "    </tr>\n",
       "    <tr>\n",
       "      <th>2</th>\n",
       "      <td>2021-01-05</td>\n",
       "      <td>1817.386353</td>\n",
       "      <td>1830.862183</td>\n",
       "      <td>1805.387329</td>\n",
       "      <td>1814.709717</td>\n",
       "      <td>1796.179077</td>\n",
       "      <td>12061545</td>\n",
       "    </tr>\n",
       "    <tr>\n",
       "      <th>3</th>\n",
       "      <td>2021-01-06</td>\n",
       "      <td>1814.525024</td>\n",
       "      <td>1814.617310</td>\n",
       "      <td>1758.452881</td>\n",
       "      <td>1766.852173</td>\n",
       "      <td>1748.810181</td>\n",
       "      <td>23200734</td>\n",
       "    </tr>\n",
       "    <tr>\n",
       "      <th>4</th>\n",
       "      <td>2021-01-07</td>\n",
       "      <td>1772.620850</td>\n",
       "      <td>1795.234375</td>\n",
       "      <td>1758.452881</td>\n",
       "      <td>1763.990845</td>\n",
       "      <td>1745.978027</td>\n",
       "      <td>16162959</td>\n",
       "    </tr>\n",
       "  </tbody>\n",
       "</table>\n",
       "</div>"
      ],
      "text/plain": [
       "         Date         Open         High          Low        Close  \\\n",
       "0  2021-01-01  1834.923340  1843.230347  1829.385376  1834.461914   \n",
       "1  2021-01-04  1841.476685  1844.984009  1816.463379  1837.553955   \n",
       "2  2021-01-05  1817.386353  1830.862183  1805.387329  1814.709717   \n",
       "3  2021-01-06  1814.525024  1814.617310  1758.452881  1766.852173   \n",
       "4  2021-01-07  1772.620850  1795.234375  1758.452881  1763.990845   \n",
       "\n",
       "     Adj Close    Volume  \n",
       "0  1815.729614   5007587  \n",
       "1  1818.790039  12256767  \n",
       "2  1796.179077  12061545  \n",
       "3  1748.810181  23200734  \n",
       "4  1745.978027  16162959  "
      ]
     },
     "execution_count": 9,
     "metadata": {},
     "output_type": "execute_result"
    }
   ],
   "source": [
    "stock_df = pd.read_csv('reliance_stock_prices.csv')\n",
    "stock_df.head()"
   ]
  },
  {
   "cell_type": "markdown",
   "id": "d9d8d212-86d2-4de9-b3e3-74fae748c98c",
   "metadata": {},
   "source": [
    "# **Sentiment Analysis**"
   ]
  },
  {
   "cell_type": "code",
   "execution_count": 10,
   "id": "08464afe-fa00-4bee-b376-e003755390e0",
   "metadata": {},
   "outputs": [],
   "source": [
    "from textblob import TextBlob\n",
    "\n",
    "def get_sentiment(text):\n",
    "    analysis = TextBlob(text)\n",
    "    return analysis.sentiment.polarity\n",
    "\n",
    "news_df['sentiment'] = news_df['cleaned_text'].apply(get_sentiment)"
   ]
  },
  {
   "cell_type": "markdown",
   "id": "362685ab-394d-467e-b9c1-d317928b6805",
   "metadata": {},
   "source": [
    "# **Merge all csv files into final one**"
   ]
  },
  {
   "cell_type": "code",
   "execution_count": 11,
   "id": "95a3dd26-faea-49b7-aebd-c8a3b346d01a",
   "metadata": {},
   "outputs": [
    {
     "name": "stdout",
     "output_type": "stream",
     "text": [
      "                                               title  \\\n",
      "0  Reliance Ind, SBI Life, IRCTC: Here are the to...   \n",
      "1  Stocks To Watch: Reliance Industries, Bajaj Fi...   \n",
      "2  Sensex at 50000: Six stocks that have been par...   \n",
      "3  Karnataka farmers sell paddy to Reliance Retai...   \n",
      "4  Sensex tanks over 500 points, Nifty ends below...   \n",
      "\n",
      "                                                link    pub_date  \\\n",
      "0  https://news.google.com/rss/articles/CBMiiwFod...  2021-01-01   \n",
      "1  https://news.google.com/rss/articles/CBMiggFod...  2021-01-21   \n",
      "2  https://news.google.com/rss/articles/CBMilgFod...  2021-01-21   \n",
      "3  https://news.google.com/rss/articles/CBMicWh0d...  2021-01-11   \n",
      "4  https://news.google.com/rss/articles/CBMieWh0d...  2021-01-25   \n",
      "\n",
      "                                        cleaned_text  sentiment        Date  \\\n",
      "0  reliance ind sbi life irctc top stocks invest ...       0.25  2021-01-01   \n",
      "1  stocks watch reliance industries bajaj finance...       0.00  2021-01-21   \n",
      "2  sensex 50000 six stocks part index dream run b...       0.00  2021-01-21   \n",
      "3  karnataka farmers sell paddy reliance retail m...       0.00  2021-01-11   \n",
      "4  sensex tanks 500 points nifty ends 14 250 auto...       0.50  2021-01-25   \n",
      "\n",
      "          Open         High          Low        Close    Adj Close    Volume  \n",
      "0  1834.923340  1843.230347  1829.385376  1834.461914  1815.729614   5007587  \n",
      "1  1921.685303  1956.759277  1915.224365  1937.745483  1917.958496  19543871  \n",
      "2  1921.685303  1956.759277  1915.224365  1937.745483  1917.958496  19543871  \n",
      "3  1789.511719  1789.511719  1746.776855  1751.161133  1733.279419  16653912  \n",
      "4  1878.258179  1878.258179  1783.235352  1791.542358  1773.248291  27103552  \n"
     ]
    }
   ],
   "source": [
    "news_df['pub_date'] = pd.to_datetime(news_df['pub_date']).dt.date\n",
    "\n",
    "stock_df['Date'] = pd.to_datetime(stock_df['Date']).dt.date\n",
    "\n",
    "# Merge data on the date\n",
    "merged_df = pd.merge(news_df, stock_df, left_on='pub_date', right_on='Date', how='inner')\n",
    "\n",
    "# Check if merged_df is empty\n",
    "if merged_df.empty:\n",
    "    print(\"The merged DataFrame is empty. Please check the date ranges and formats.\")\n",
    "else:\n",
    "    merged_df.to_csv('merged_data.csv', index=False)\n",
    "    print(merged_df.head())\n"
   ]
  },
  {
   "cell_type": "code",
   "execution_count": 12,
   "id": "f06ba4bc-e9a8-4b7a-9260-f1b0202d0a94",
   "metadata": {},
   "outputs": [
    {
     "data": {
      "text/html": [
       "<div>\n",
       "<style scoped>\n",
       "    .dataframe tbody tr th:only-of-type {\n",
       "        vertical-align: middle;\n",
       "    }\n",
       "\n",
       "    .dataframe tbody tr th {\n",
       "        vertical-align: top;\n",
       "    }\n",
       "\n",
       "    .dataframe thead th {\n",
       "        text-align: right;\n",
       "    }\n",
       "</style>\n",
       "<table border=\"1\" class=\"dataframe\">\n",
       "  <thead>\n",
       "    <tr style=\"text-align: right;\">\n",
       "      <th></th>\n",
       "      <th>title</th>\n",
       "      <th>link</th>\n",
       "      <th>pub_date</th>\n",
       "      <th>cleaned_text</th>\n",
       "      <th>sentiment</th>\n",
       "    </tr>\n",
       "  </thead>\n",
       "  <tbody>\n",
       "    <tr>\n",
       "      <th>1019</th>\n",
       "      <td>JK Paper jumps 4% on acquiring majority stake ...</td>\n",
       "      <td>https://news.google.com/rss/articles/CBMijAFod...</td>\n",
       "      <td>2022-11-22</td>\n",
       "      <td>jk paper jumps 4 acquiring majority stake hori...</td>\n",
       "      <td>0.000000</td>\n",
       "    </tr>\n",
       "    <tr>\n",
       "      <th>825</th>\n",
       "      <td>Mukesh Ambani hands over Reliance Jio reins to...</td>\n",
       "      <td>https://news.google.com/rss/articles/CBMipwFod...</td>\n",
       "      <td>2022-06-28</td>\n",
       "      <td>mukesh ambani hands reliance jio reins son aka...</td>\n",
       "      <td>0.000000</td>\n",
       "    </tr>\n",
       "    <tr>\n",
       "      <th>1614</th>\n",
       "      <td>Reliance share price Today Live Updates : Reli...</td>\n",
       "      <td>https://news.google.com/rss/articles/CBMibGh0d...</td>\n",
       "      <td>2023-08-23</td>\n",
       "      <td>reliance share price today live updates relian...</td>\n",
       "      <td>0.018182</td>\n",
       "    </tr>\n",
       "    <tr>\n",
       "      <th>792</th>\n",
       "      <td>Reopening 'Future' stores a work in progress f...</td>\n",
       "      <td>https://news.google.com/rss/articles/CBMihgFod...</td>\n",
       "      <td>2022-06-08</td>\n",
       "      <td>reopening future stores work progress reliance...</td>\n",
       "      <td>0.000000</td>\n",
       "    </tr>\n",
       "    <tr>\n",
       "      <th>37</th>\n",
       "      <td>Meet the 105-year-old who got Padma Shri for o...</td>\n",
       "      <td>https://news.google.com/rss/articles/CBMihAFod...</td>\n",
       "      <td>2021-01-27</td>\n",
       "      <td>meet 105 year old got padma shri organic farmi...</td>\n",
       "      <td>0.100000</td>\n",
       "    </tr>\n",
       "    <tr>\n",
       "      <th>260</th>\n",
       "      <td>What's Driving the Rally in Reliance Shares? -...</td>\n",
       "      <td>https://news.google.com/rss/articles/CBMicGh0d...</td>\n",
       "      <td>2021-06-01</td>\n",
       "      <td>driving rally reliance shares equitymaster</td>\n",
       "      <td>0.000000</td>\n",
       "    </tr>\n",
       "    <tr>\n",
       "      <th>1122</th>\n",
       "      <td>How to survive a bear attack — lessons for Ada...</td>\n",
       "      <td>https://news.google.com/rss/articles/CBMifGh0d...</td>\n",
       "      <td>2023-01-28</td>\n",
       "      <td>survive bear attack lessons adani ambani stock...</td>\n",
       "      <td>0.000000</td>\n",
       "    </tr>\n",
       "    <tr>\n",
       "      <th>662</th>\n",
       "      <td>5 countries with no airports - Vatican City - ...</td>\n",
       "      <td>https://news.google.com/rss/articles/CBMieGh0d...</td>\n",
       "      <td>2022-03-25</td>\n",
       "      <td>5 countries airports vatican city indiatimes</td>\n",
       "      <td>0.000000</td>\n",
       "    </tr>\n",
       "    <tr>\n",
       "      <th>1229</th>\n",
       "      <td>Reliance Industries to announce Q4 results on ...</td>\n",
       "      <td>https://news.google.com/rss/articles/CBMigwFod...</td>\n",
       "      <td>2023-04-14</td>\n",
       "      <td>reliance industries announce q4 results april ...</td>\n",
       "      <td>0.000000</td>\n",
       "    </tr>\n",
       "    <tr>\n",
       "      <th>1203</th>\n",
       "      <td>Sensex tops 58,000, Nifty ends 120 pts higher;...</td>\n",
       "      <td>https://news.google.com/rss/articles/CBMiigFod...</td>\n",
       "      <td>2023-03-21</td>\n",
       "      <td>sensex tops 58 000 nifty ends 120 pts higher b...</td>\n",
       "      <td>0.250000</td>\n",
       "    </tr>\n",
       "  </tbody>\n",
       "</table>\n",
       "</div>"
      ],
      "text/plain": [
       "                                                  title  \\\n",
       "1019  JK Paper jumps 4% on acquiring majority stake ...   \n",
       "825   Mukesh Ambani hands over Reliance Jio reins to...   \n",
       "1614  Reliance share price Today Live Updates : Reli...   \n",
       "792   Reopening 'Future' stores a work in progress f...   \n",
       "37    Meet the 105-year-old who got Padma Shri for o...   \n",
       "260   What's Driving the Rally in Reliance Shares? -...   \n",
       "1122  How to survive a bear attack — lessons for Ada...   \n",
       "662   5 countries with no airports - Vatican City - ...   \n",
       "1229  Reliance Industries to announce Q4 results on ...   \n",
       "1203  Sensex tops 58,000, Nifty ends 120 pts higher;...   \n",
       "\n",
       "                                                   link    pub_date  \\\n",
       "1019  https://news.google.com/rss/articles/CBMijAFod...  2022-11-22   \n",
       "825   https://news.google.com/rss/articles/CBMipwFod...  2022-06-28   \n",
       "1614  https://news.google.com/rss/articles/CBMibGh0d...  2023-08-23   \n",
       "792   https://news.google.com/rss/articles/CBMihgFod...  2022-06-08   \n",
       "37    https://news.google.com/rss/articles/CBMihAFod...  2021-01-27   \n",
       "260   https://news.google.com/rss/articles/CBMicGh0d...  2021-06-01   \n",
       "1122  https://news.google.com/rss/articles/CBMifGh0d...  2023-01-28   \n",
       "662   https://news.google.com/rss/articles/CBMieGh0d...  2022-03-25   \n",
       "1229  https://news.google.com/rss/articles/CBMigwFod...  2023-04-14   \n",
       "1203  https://news.google.com/rss/articles/CBMiigFod...  2023-03-21   \n",
       "\n",
       "                                           cleaned_text  sentiment  \n",
       "1019  jk paper jumps 4 acquiring majority stake hori...   0.000000  \n",
       "825   mukesh ambani hands reliance jio reins son aka...   0.000000  \n",
       "1614  reliance share price today live updates relian...   0.018182  \n",
       "792   reopening future stores work progress reliance...   0.000000  \n",
       "37    meet 105 year old got padma shri organic farmi...   0.100000  \n",
       "260          driving rally reliance shares equitymaster   0.000000  \n",
       "1122  survive bear attack lessons adani ambani stock...   0.000000  \n",
       "662        5 countries airports vatican city indiatimes   0.000000  \n",
       "1229  reliance industries announce q4 results april ...   0.000000  \n",
       "1203  sensex tops 58 000 nifty ends 120 pts higher b...   0.250000  "
      ]
     },
     "execution_count": 12,
     "metadata": {},
     "output_type": "execute_result"
    }
   ],
   "source": [
    "news_df.sample(10)"
   ]
  },
  {
   "cell_type": "code",
   "execution_count": 13,
   "id": "76edd2f7-46b4-460c-bcb9-55aaea8cf6fb",
   "metadata": {},
   "outputs": [
    {
     "name": "stdout",
     "output_type": "stream",
     "text": [
      "<class 'pandas.core.frame.DataFrame'>\n",
      "RangeIndex: 2062 entries, 0 to 2061\n",
      "Data columns (total 5 columns):\n",
      " #   Column        Non-Null Count  Dtype  \n",
      "---  ------        --------------  -----  \n",
      " 0   title         2062 non-null   object \n",
      " 1   link          2062 non-null   object \n",
      " 2   pub_date      2062 non-null   object \n",
      " 3   cleaned_text  2062 non-null   object \n",
      " 4   sentiment     2062 non-null   float64\n",
      "dtypes: float64(1), object(4)\n",
      "memory usage: 80.7+ KB\n"
     ]
    }
   ],
   "source": [
    "news_df.info()"
   ]
  },
  {
   "cell_type": "code",
   "execution_count": 14,
   "id": "3db1df18-7cee-4789-b872-b10aaa81f1b8",
   "metadata": {},
   "outputs": [
    {
     "data": {
      "text/html": [
       "<div>\n",
       "<style scoped>\n",
       "    .dataframe tbody tr th:only-of-type {\n",
       "        vertical-align: middle;\n",
       "    }\n",
       "\n",
       "    .dataframe tbody tr th {\n",
       "        vertical-align: top;\n",
       "    }\n",
       "\n",
       "    .dataframe thead th {\n",
       "        text-align: right;\n",
       "    }\n",
       "</style>\n",
       "<table border=\"1\" class=\"dataframe\">\n",
       "  <thead>\n",
       "    <tr style=\"text-align: right;\">\n",
       "      <th></th>\n",
       "      <th>Date</th>\n",
       "      <th>Open</th>\n",
       "      <th>High</th>\n",
       "      <th>Low</th>\n",
       "      <th>Close</th>\n",
       "      <th>Adj Close</th>\n",
       "      <th>Volume</th>\n",
       "    </tr>\n",
       "  </thead>\n",
       "  <tbody>\n",
       "    <tr>\n",
       "      <th>502</th>\n",
       "      <td>2023-01-10</td>\n",
       "      <td>2405.337158</td>\n",
       "      <td>2405.337158</td>\n",
       "      <td>2349.957275</td>\n",
       "      <td>2361.402344</td>\n",
       "      <td>2353.090088</td>\n",
       "      <td>4023571</td>\n",
       "    </tr>\n",
       "    <tr>\n",
       "      <th>496</th>\n",
       "      <td>2023-01-02</td>\n",
       "      <td>2353.649170</td>\n",
       "      <td>2380.416260</td>\n",
       "      <td>2351.987793</td>\n",
       "      <td>2377.554932</td>\n",
       "      <td>2369.185791</td>\n",
       "      <td>2658087</td>\n",
       "    </tr>\n",
       "    <tr>\n",
       "      <th>703</th>\n",
       "      <td>2023-11-03</td>\n",
       "      <td>2327.199951</td>\n",
       "      <td>2334.949951</td>\n",
       "      <td>2315.750000</td>\n",
       "      <td>2319.699951</td>\n",
       "      <td>2319.699951</td>\n",
       "      <td>4425078</td>\n",
       "    </tr>\n",
       "    <tr>\n",
       "      <th>432</th>\n",
       "      <td>2022-09-29</td>\n",
       "      <td>2178.279297</td>\n",
       "      <td>2185.201660</td>\n",
       "      <td>2134.898193</td>\n",
       "      <td>2146.251221</td>\n",
       "      <td>2138.696289</td>\n",
       "      <td>7335913</td>\n",
       "    </tr>\n",
       "    <tr>\n",
       "      <th>574</th>\n",
       "      <td>2023-04-28</td>\n",
       "      <td>2198.585205</td>\n",
       "      <td>2237.259033</td>\n",
       "      <td>2198.354492</td>\n",
       "      <td>2234.120605</td>\n",
       "      <td>2226.256592</td>\n",
       "      <td>7782605</td>\n",
       "    </tr>\n",
       "    <tr>\n",
       "      <th>733</th>\n",
       "      <td>2023-12-19</td>\n",
       "      <td>2555.000000</td>\n",
       "      <td>2573.899902</td>\n",
       "      <td>2525.199951</td>\n",
       "      <td>2558.100098</td>\n",
       "      <td>2558.100098</td>\n",
       "      <td>8410302</td>\n",
       "    </tr>\n",
       "    <tr>\n",
       "      <th>187</th>\n",
       "      <td>2021-10-05</td>\n",
       "      <td>2358.356445</td>\n",
       "      <td>2410.875244</td>\n",
       "      <td>2351.203125</td>\n",
       "      <td>2408.290771</td>\n",
       "      <td>2392.009033</td>\n",
       "      <td>6766817</td>\n",
       "    </tr>\n",
       "    <tr>\n",
       "      <th>137</th>\n",
       "      <td>2021-07-23</td>\n",
       "      <td>1970.096680</td>\n",
       "      <td>1970.096680</td>\n",
       "      <td>1940.191406</td>\n",
       "      <td>1943.560425</td>\n",
       "      <td>1930.420532</td>\n",
       "      <td>4968515</td>\n",
       "    </tr>\n",
       "    <tr>\n",
       "      <th>98</th>\n",
       "      <td>2021-05-28</td>\n",
       "      <td>1836.769409</td>\n",
       "      <td>1942.914307</td>\n",
       "      <td>1836.769409</td>\n",
       "      <td>1933.499756</td>\n",
       "      <td>1913.756104</td>\n",
       "      <td>28234965</td>\n",
       "    </tr>\n",
       "    <tr>\n",
       "      <th>533</th>\n",
       "      <td>2023-02-23</td>\n",
       "      <td>2194.893311</td>\n",
       "      <td>2210.353516</td>\n",
       "      <td>2179.525391</td>\n",
       "      <td>2185.201660</td>\n",
       "      <td>2177.509766</td>\n",
       "      <td>4925955</td>\n",
       "    </tr>\n",
       "  </tbody>\n",
       "</table>\n",
       "</div>"
      ],
      "text/plain": [
       "           Date         Open         High          Low        Close  \\\n",
       "502  2023-01-10  2405.337158  2405.337158  2349.957275  2361.402344   \n",
       "496  2023-01-02  2353.649170  2380.416260  2351.987793  2377.554932   \n",
       "703  2023-11-03  2327.199951  2334.949951  2315.750000  2319.699951   \n",
       "432  2022-09-29  2178.279297  2185.201660  2134.898193  2146.251221   \n",
       "574  2023-04-28  2198.585205  2237.259033  2198.354492  2234.120605   \n",
       "733  2023-12-19  2555.000000  2573.899902  2525.199951  2558.100098   \n",
       "187  2021-10-05  2358.356445  2410.875244  2351.203125  2408.290771   \n",
       "137  2021-07-23  1970.096680  1970.096680  1940.191406  1943.560425   \n",
       "98   2021-05-28  1836.769409  1942.914307  1836.769409  1933.499756   \n",
       "533  2023-02-23  2194.893311  2210.353516  2179.525391  2185.201660   \n",
       "\n",
       "       Adj Close    Volume  \n",
       "502  2353.090088   4023571  \n",
       "496  2369.185791   2658087  \n",
       "703  2319.699951   4425078  \n",
       "432  2138.696289   7335913  \n",
       "574  2226.256592   7782605  \n",
       "733  2558.100098   8410302  \n",
       "187  2392.009033   6766817  \n",
       "137  1930.420532   4968515  \n",
       "98   1913.756104  28234965  \n",
       "533  2177.509766   4925955  "
      ]
     },
     "execution_count": 14,
     "metadata": {},
     "output_type": "execute_result"
    }
   ],
   "source": [
    "stock_df.sample(10)"
   ]
  },
  {
   "cell_type": "code",
   "execution_count": 15,
   "id": "72b0330b-bc06-414c-a0be-39acdec218ae",
   "metadata": {},
   "outputs": [
    {
     "name": "stdout",
     "output_type": "stream",
     "text": [
      "<class 'pandas.core.frame.DataFrame'>\n",
      "RangeIndex: 741 entries, 0 to 740\n",
      "Data columns (total 7 columns):\n",
      " #   Column     Non-Null Count  Dtype  \n",
      "---  ------     --------------  -----  \n",
      " 0   Date       741 non-null    object \n",
      " 1   Open       741 non-null    float64\n",
      " 2   High       741 non-null    float64\n",
      " 3   Low        741 non-null    float64\n",
      " 4   Close      741 non-null    float64\n",
      " 5   Adj Close  741 non-null    float64\n",
      " 6   Volume     741 non-null    int64  \n",
      "dtypes: float64(5), int64(1), object(1)\n",
      "memory usage: 40.7+ KB\n"
     ]
    }
   ],
   "source": [
    "stock_df.info()"
   ]
  },
  {
   "cell_type": "code",
   "execution_count": 16,
   "id": "ca753821-4886-4b0c-aeff-3aa4beae747b",
   "metadata": {},
   "outputs": [
    {
     "data": {
      "text/html": [
       "<div>\n",
       "<style scoped>\n",
       "    .dataframe tbody tr th:only-of-type {\n",
       "        vertical-align: middle;\n",
       "    }\n",
       "\n",
       "    .dataframe tbody tr th {\n",
       "        vertical-align: top;\n",
       "    }\n",
       "\n",
       "    .dataframe thead th {\n",
       "        text-align: right;\n",
       "    }\n",
       "</style>\n",
       "<table border=\"1\" class=\"dataframe\">\n",
       "  <thead>\n",
       "    <tr style=\"text-align: right;\">\n",
       "      <th></th>\n",
       "      <th>title</th>\n",
       "      <th>link</th>\n",
       "      <th>pub_date</th>\n",
       "      <th>cleaned_text</th>\n",
       "      <th>sentiment</th>\n",
       "      <th>Date</th>\n",
       "      <th>Open</th>\n",
       "      <th>High</th>\n",
       "      <th>Low</th>\n",
       "      <th>Close</th>\n",
       "      <th>Adj Close</th>\n",
       "      <th>Volume</th>\n",
       "    </tr>\n",
       "  </thead>\n",
       "  <tbody>\n",
       "    <tr>\n",
       "      <th>1098</th>\n",
       "      <td>RIL Q4 Results: 8 major takeaways for Dalal St...</td>\n",
       "      <td>https://news.google.com/rss/articles/CBMiqgFod...</td>\n",
       "      <td>2023-04-21</td>\n",
       "      <td>ril q4 results 8 major takeaways dalal street ...</td>\n",
       "      <td>0.13125</td>\n",
       "      <td>2023-04-21</td>\n",
       "      <td>2169.649170</td>\n",
       "      <td>2179.202148</td>\n",
       "      <td>2156.496338</td>\n",
       "      <td>2168.126221</td>\n",
       "      <td>2160.494385</td>\n",
       "      <td>3823658</td>\n",
       "    </tr>\n",
       "    <tr>\n",
       "      <th>1637</th>\n",
       "      <td>Reliance raises Rs 20,000 cr at 7.79% interest...</td>\n",
       "      <td>https://news.google.com/rss/articles/CBMie2h0d...</td>\n",
       "      <td>2023-11-10</td>\n",
       "      <td>reliance raises rs 20 000 cr 7 79 interest rat...</td>\n",
       "      <td>0.00000</td>\n",
       "      <td>2023-11-10</td>\n",
       "      <td>2305.550049</td>\n",
       "      <td>2316.350098</td>\n",
       "      <td>2298.050049</td>\n",
       "      <td>2314.899902</td>\n",
       "      <td>2314.899902</td>\n",
       "      <td>3867477</td>\n",
       "    </tr>\n",
       "    <tr>\n",
       "      <th>625</th>\n",
       "      <td>Reliance Industries to announce Q4 results tom...</td>\n",
       "      <td>https://news.google.com/rss/articles/CBMikwFod...</td>\n",
       "      <td>2022-05-05</td>\n",
       "      <td>reliance industries announce q4 results tomorr...</td>\n",
       "      <td>0.00000</td>\n",
       "      <td>2022-05-05</td>\n",
       "      <td>2513.789551</td>\n",
       "      <td>2519.789062</td>\n",
       "      <td>2429.335205</td>\n",
       "      <td>2437.549805</td>\n",
       "      <td>2421.070312</td>\n",
       "      <td>8605334</td>\n",
       "    </tr>\n",
       "    <tr>\n",
       "      <th>68</th>\n",
       "      <td>Myanmar or Burma: What's in a name? - What's t...</td>\n",
       "      <td>https://news.google.com/rss/articles/CBMiigFod...</td>\n",
       "      <td>2021-02-05</td>\n",
       "      <td>myanmar burma name country called indiatimes</td>\n",
       "      <td>0.00000</td>\n",
       "      <td>2021-02-05</td>\n",
       "      <td>1781.435547</td>\n",
       "      <td>1794.911377</td>\n",
       "      <td>1772.159424</td>\n",
       "      <td>1775.620605</td>\n",
       "      <td>1757.489136</td>\n",
       "      <td>10124023</td>\n",
       "    </tr>\n",
       "    <tr>\n",
       "      <th>202</th>\n",
       "      <td>ADAG Group shares hit upper circuit as promote...</td>\n",
       "      <td>https://news.google.com/rss/articles/CBMijgFod...</td>\n",
       "      <td>2021-06-14</td>\n",
       "      <td>adag group shares hit upper circuit promoter e...</td>\n",
       "      <td>0.00000</td>\n",
       "      <td>2021-06-14</td>\n",
       "      <td>2044.444336</td>\n",
       "      <td>2084.364014</td>\n",
       "      <td>2026.030396</td>\n",
       "      <td>2072.041992</td>\n",
       "      <td>2058.033691</td>\n",
       "      <td>10166218</td>\n",
       "    </tr>\n",
       "    <tr>\n",
       "      <th>1652</th>\n",
       "      <td>Reliance Jio Q2 Results: Net profit rises 4% Q...</td>\n",
       "      <td>https://news.google.com/rss/articles/CBMijgFod...</td>\n",
       "      <td>2023-10-27</td>\n",
       "      <td>reliance jio q2 results net profit rises 4 qoq...</td>\n",
       "      <td>0.00000</td>\n",
       "      <td>2023-10-27</td>\n",
       "      <td>2240.000000</td>\n",
       "      <td>2273.500000</td>\n",
       "      <td>2235.949951</td>\n",
       "      <td>2265.800049</td>\n",
       "      <td>2265.800049</td>\n",
       "      <td>5885542</td>\n",
       "    </tr>\n",
       "    <tr>\n",
       "      <th>715</th>\n",
       "      <td>Markets snap 6-day rally; Sensex ends lower, N...</td>\n",
       "      <td>https://news.google.com/rss/articles/CBMiigFod...</td>\n",
       "      <td>2022-07-25</td>\n",
       "      <td>markets snap 6 day rally sensex ends lower nif...</td>\n",
       "      <td>0.00000</td>\n",
       "      <td>2022-07-25</td>\n",
       "      <td>2277.455566</td>\n",
       "      <td>2277.455566</td>\n",
       "      <td>2217.968262</td>\n",
       "      <td>2234.028320</td>\n",
       "      <td>2218.924805</td>\n",
       "      <td>11555226</td>\n",
       "    </tr>\n",
       "    <tr>\n",
       "      <th>1159</th>\n",
       "      <td>Sensex ends above 60,600, Nifty tops 17,900; R...</td>\n",
       "      <td>https://news.google.com/rss/articles/CBMihwFod...</td>\n",
       "      <td>2023-04-27</td>\n",
       "      <td>sensex ends 60 600 nifty tops 17 900 realty me...</td>\n",
       "      <td>0.00000</td>\n",
       "      <td>2023-04-27</td>\n",
       "      <td>2192.124268</td>\n",
       "      <td>2200.431152</td>\n",
       "      <td>2181.971191</td>\n",
       "      <td>2194.016357</td>\n",
       "      <td>2186.293457</td>\n",
       "      <td>4583562</td>\n",
       "    </tr>\n",
       "    <tr>\n",
       "      <th>1686</th>\n",
       "      <td>RIL, Infosys, TCS, ICICI, HDFC Bank: 5 stocks ...</td>\n",
       "      <td>https://news.google.com/rss/articles/CBMioQFod...</td>\n",
       "      <td>2023-11-29</td>\n",
       "      <td>ril infosys tcs icici hdfc bank 5 stocks may s...</td>\n",
       "      <td>0.00000</td>\n",
       "      <td>2023-11-29</td>\n",
       "      <td>2408.000000</td>\n",
       "      <td>2411.949951</td>\n",
       "      <td>2398.050049</td>\n",
       "      <td>2400.699951</td>\n",
       "      <td>2400.699951</td>\n",
       "      <td>6265653</td>\n",
       "    </tr>\n",
       "    <tr>\n",
       "      <th>707</th>\n",
       "      <td>Why one stock brokerage is bullish on Reliance...</td>\n",
       "      <td>https://news.google.com/rss/articles/CBMiamh0d...</td>\n",
       "      <td>2022-06-28</td>\n",
       "      <td>one stock brokerage bullish reliance industrie...</td>\n",
       "      <td>0.00000</td>\n",
       "      <td>2022-06-28</td>\n",
       "      <td>2290.977539</td>\n",
       "      <td>2338.834961</td>\n",
       "      <td>2290.977539</td>\n",
       "      <td>2333.066162</td>\n",
       "      <td>2317.292969</td>\n",
       "      <td>6786423</td>\n",
       "    </tr>\n",
       "  </tbody>\n",
       "</table>\n",
       "</div>"
      ],
      "text/plain": [
       "                                                  title  \\\n",
       "1098  RIL Q4 Results: 8 major takeaways for Dalal St...   \n",
       "1637  Reliance raises Rs 20,000 cr at 7.79% interest...   \n",
       "625   Reliance Industries to announce Q4 results tom...   \n",
       "68    Myanmar or Burma: What's in a name? - What's t...   \n",
       "202   ADAG Group shares hit upper circuit as promote...   \n",
       "1652  Reliance Jio Q2 Results: Net profit rises 4% Q...   \n",
       "715   Markets snap 6-day rally; Sensex ends lower, N...   \n",
       "1159  Sensex ends above 60,600, Nifty tops 17,900; R...   \n",
       "1686  RIL, Infosys, TCS, ICICI, HDFC Bank: 5 stocks ...   \n",
       "707   Why one stock brokerage is bullish on Reliance...   \n",
       "\n",
       "                                                   link    pub_date  \\\n",
       "1098  https://news.google.com/rss/articles/CBMiqgFod...  2023-04-21   \n",
       "1637  https://news.google.com/rss/articles/CBMie2h0d...  2023-11-10   \n",
       "625   https://news.google.com/rss/articles/CBMikwFod...  2022-05-05   \n",
       "68    https://news.google.com/rss/articles/CBMiigFod...  2021-02-05   \n",
       "202   https://news.google.com/rss/articles/CBMijgFod...  2021-06-14   \n",
       "1652  https://news.google.com/rss/articles/CBMijgFod...  2023-10-27   \n",
       "715   https://news.google.com/rss/articles/CBMiigFod...  2022-07-25   \n",
       "1159  https://news.google.com/rss/articles/CBMihwFod...  2023-04-27   \n",
       "1686  https://news.google.com/rss/articles/CBMioQFod...  2023-11-29   \n",
       "707   https://news.google.com/rss/articles/CBMiamh0d...  2022-06-28   \n",
       "\n",
       "                                           cleaned_text  sentiment  \\\n",
       "1098  ril q4 results 8 major takeaways dalal street ...    0.13125   \n",
       "1637  reliance raises rs 20 000 cr 7 79 interest rat...    0.00000   \n",
       "625   reliance industries announce q4 results tomorr...    0.00000   \n",
       "68         myanmar burma name country called indiatimes    0.00000   \n",
       "202   adag group shares hit upper circuit promoter e...    0.00000   \n",
       "1652  reliance jio q2 results net profit rises 4 qoq...    0.00000   \n",
       "715   markets snap 6 day rally sensex ends lower nif...    0.00000   \n",
       "1159  sensex ends 60 600 nifty tops 17 900 realty me...    0.00000   \n",
       "1686  ril infosys tcs icici hdfc bank 5 stocks may s...    0.00000   \n",
       "707   one stock brokerage bullish reliance industrie...    0.00000   \n",
       "\n",
       "            Date         Open         High          Low        Close  \\\n",
       "1098  2023-04-21  2169.649170  2179.202148  2156.496338  2168.126221   \n",
       "1637  2023-11-10  2305.550049  2316.350098  2298.050049  2314.899902   \n",
       "625   2022-05-05  2513.789551  2519.789062  2429.335205  2437.549805   \n",
       "68    2021-02-05  1781.435547  1794.911377  1772.159424  1775.620605   \n",
       "202   2021-06-14  2044.444336  2084.364014  2026.030396  2072.041992   \n",
       "1652  2023-10-27  2240.000000  2273.500000  2235.949951  2265.800049   \n",
       "715   2022-07-25  2277.455566  2277.455566  2217.968262  2234.028320   \n",
       "1159  2023-04-27  2192.124268  2200.431152  2181.971191  2194.016357   \n",
       "1686  2023-11-29  2408.000000  2411.949951  2398.050049  2400.699951   \n",
       "707   2022-06-28  2290.977539  2338.834961  2290.977539  2333.066162   \n",
       "\n",
       "        Adj Close    Volume  \n",
       "1098  2160.494385   3823658  \n",
       "1637  2314.899902   3867477  \n",
       "625   2421.070312   8605334  \n",
       "68    1757.489136  10124023  \n",
       "202   2058.033691  10166218  \n",
       "1652  2265.800049   5885542  \n",
       "715   2218.924805  11555226  \n",
       "1159  2186.293457   4583562  \n",
       "1686  2400.699951   6265653  \n",
       "707   2317.292969   6786423  "
      ]
     },
     "execution_count": 16,
     "metadata": {},
     "output_type": "execute_result"
    }
   ],
   "source": [
    "merged_df.sample(10)"
   ]
  },
  {
   "cell_type": "code",
   "execution_count": 17,
   "id": "29d978ff-ae6a-4b01-a07b-358de9df639a",
   "metadata": {},
   "outputs": [
    {
     "data": {
      "text/plain": [
       "title           0\n",
       "link            0\n",
       "pub_date        0\n",
       "cleaned_text    0\n",
       "sentiment       0\n",
       "Date            0\n",
       "Open            0\n",
       "High            0\n",
       "Low             0\n",
       "Close           0\n",
       "Adj Close       0\n",
       "Volume          0\n",
       "dtype: int64"
      ]
     },
     "execution_count": 17,
     "metadata": {},
     "output_type": "execute_result"
    }
   ],
   "source": [
    "merged_df.isnull().sum()"
   ]
  },
  {
   "cell_type": "code",
   "execution_count": 18,
   "id": "3e5c0023-1974-434a-b02a-bd9cb566f8f0",
   "metadata": {},
   "outputs": [
    {
     "name": "stdout",
     "output_type": "stream",
     "text": [
      "<class 'pandas.core.frame.DataFrame'>\n",
      "RangeIndex: 1766 entries, 0 to 1765\n",
      "Data columns (total 12 columns):\n",
      " #   Column        Non-Null Count  Dtype  \n",
      "---  ------        --------------  -----  \n",
      " 0   title         1766 non-null   object \n",
      " 1   link          1766 non-null   object \n",
      " 2   pub_date      1766 non-null   object \n",
      " 3   cleaned_text  1766 non-null   object \n",
      " 4   sentiment     1766 non-null   float64\n",
      " 5   Date          1766 non-null   object \n",
      " 6   Open          1766 non-null   float64\n",
      " 7   High          1766 non-null   float64\n",
      " 8   Low           1766 non-null   float64\n",
      " 9   Close         1766 non-null   float64\n",
      " 10  Adj Close     1766 non-null   float64\n",
      " 11  Volume        1766 non-null   int64  \n",
      "dtypes: float64(6), int64(1), object(5)\n",
      "memory usage: 165.7+ KB\n"
     ]
    }
   ],
   "source": [
    "merged_df.info()"
   ]
  },
  {
   "cell_type": "code",
   "execution_count": 19,
   "id": "219a23e8-156c-4262-8b68-4f23cad9627f",
   "metadata": {},
   "outputs": [
    {
     "data": {
      "text/plain": [
       "[<matplotlib.lines.Line2D at 0x1b80ddea6f0>]"
      ]
     },
     "execution_count": 19,
     "metadata": {},
     "output_type": "execute_result"
    },
    {
     "data": {
      "image/png": "[encoded data removed]",
      "text/plain": [
       "<Figure size 640x480 with 1 Axes>"
      ]
     },
     "metadata": {},
     "output_type": "display_data"
    }
   ],
   "source": [
    "import matplotlib.pyplot as plt\n",
    "plt.plot(merged_df['Date'],merged_df['sentiment'])"
   ]
  },
  {
   "cell_type": "markdown",
   "id": "b409e69b",
   "metadata": {},
   "source": [
    "# **Observing Price Movement**"
   ]
  },
  {
   "cell_type": "code",
   "execution_count": 20,
   "id": "f9a18870-e218-4e01-8660-1b5035f21384",
   "metadata": {},
   "outputs": [],
   "source": [
    "# Calculate stock price movement\n",
    "def calculate_price_movement(row, horizon_days=1):\n",
    "    pub_date = row['pub_date']\n",
    "    future_date = pub_date + datetime.timedelta(days=horizon_days)\n",
    "    \n",
    "    future_price = stock_df[stock_df['Date'] == future_date]['Close'].values\n",
    "    if len(future_price) == 0:\n",
    "        return None\n",
    "    \n",
    "    future_price = future_price[0]\n",
    "    current_price = row['Close']\n",
    "    \n",
    "    if future_price > current_price:\n",
    "        return 'increase'\n",
    "    elif future_price < current_price:\n",
    "        return 'decrease'\n",
    "    else:\n",
    "        return 'no change'\n",
    "\n",
    "# Apply the function to the merged DataFrame\n",
    "merged_df['price_movement'] = merged_df.apply(calculate_price_movement, axis=1)\n",
    "merged_df.dropna(subset=['price_movement'], inplace=True)\n",
    "\n",
    "# Save the final labeled data\n",
    "merged_df.to_csv('labeled_data.csv', index=False)"
   ]
  },
  {
   "cell_type": "code",
   "execution_count": 21,
   "id": "91689446-c9b7-4048-b53e-3d785f78c7ea",
   "metadata": {},
   "outputs": [
    {
     "data": {
      "text/html": [
       "<div>\n",
       "<style scoped>\n",
       "    .dataframe tbody tr th:only-of-type {\n",
       "        vertical-align: middle;\n",
       "    }\n",
       "\n",
       "    .dataframe tbody tr th {\n",
       "        vertical-align: top;\n",
       "    }\n",
       "\n",
       "    .dataframe thead th {\n",
       "        text-align: right;\n",
       "    }\n",
       "</style>\n",
       "<table border=\"1\" class=\"dataframe\">\n",
       "  <thead>\n",
       "    <tr style=\"text-align: right;\">\n",
       "      <th></th>\n",
       "      <th>title</th>\n",
       "      <th>link</th>\n",
       "      <th>pub_date</th>\n",
       "      <th>cleaned_text</th>\n",
       "      <th>sentiment</th>\n",
       "      <th>Date</th>\n",
       "      <th>Open</th>\n",
       "      <th>High</th>\n",
       "      <th>Low</th>\n",
       "      <th>Close</th>\n",
       "      <th>Adj Close</th>\n",
       "      <th>Volume</th>\n",
       "      <th>price_movement</th>\n",
       "    </tr>\n",
       "  </thead>\n",
       "  <tbody>\n",
       "    <tr>\n",
       "      <th>636</th>\n",
       "      <td>For Reliance Jio, 5G holds key to future | Sto...</td>\n",
       "      <td>https://news.google.com/rss/articles/CBMiamh0d...</td>\n",
       "      <td>2022-05-09</td>\n",
       "      <td>reliance jio 5g holds key future stock market ...</td>\n",
       "      <td>0.000000</td>\n",
       "      <td>2022-05-09</td>\n",
       "      <td>2376.677979</td>\n",
       "      <td>2397.122559</td>\n",
       "      <td>2313.960205</td>\n",
       "      <td>2324.390137</td>\n",
       "      <td>2308.675537</td>\n",
       "      <td>9041876</td>\n",
       "      <td>decrease</td>\n",
       "    </tr>\n",
       "    <tr>\n",
       "      <th>1056</th>\n",
       "      <td>Reliance Polyester completes acquisition of po...</td>\n",
       "      <td>https://news.google.com/rss/articles/CBMiuwFod...</td>\n",
       "      <td>2023-03-09</td>\n",
       "      <td>reliance polyester completes acquisition polye...</td>\n",
       "      <td>0.000000</td>\n",
       "      <td>2023-03-09</td>\n",
       "      <td>2229.967285</td>\n",
       "      <td>2230.797852</td>\n",
       "      <td>2173.756592</td>\n",
       "      <td>2177.586914</td>\n",
       "      <td>2169.921875</td>\n",
       "      <td>8117564</td>\n",
       "      <td>decrease</td>\n",
       "    </tr>\n",
       "    <tr>\n",
       "      <th>657</th>\n",
       "      <td>6 Stocks That Lost Upto 20% In 7-Trading Days ...</td>\n",
       "      <td>https://news.google.com/rss/articles/CBMiUmh0d...</td>\n",
       "      <td>2022-05-10</td>\n",
       "      <td>6 stocks lost upto 20 7 trading days goodreturns</td>\n",
       "      <td>0.000000</td>\n",
       "      <td>2022-05-10</td>\n",
       "      <td>2302.884277</td>\n",
       "      <td>2332.051025</td>\n",
       "      <td>2268.733154</td>\n",
       "      <td>2284.101074</td>\n",
       "      <td>2268.658936</td>\n",
       "      <td>9755838</td>\n",
       "      <td>decrease</td>\n",
       "    </tr>\n",
       "    <tr>\n",
       "      <th>114</th>\n",
       "      <td>Sebi slaps fine of Rs 25 cr on RIL promoters f...</td>\n",
       "      <td>https://news.google.com/rss/articles/CBMiowFod...</td>\n",
       "      <td>2021-04-07</td>\n",
       "      <td>sebi slaps fine rs 25 cr ril promoters violati...</td>\n",
       "      <td>0.416667</td>\n",
       "      <td>2021-04-07</td>\n",
       "      <td>1845.999390</td>\n",
       "      <td>1889.288086</td>\n",
       "      <td>1839.815308</td>\n",
       "      <td>1848.629883</td>\n",
       "      <td>1829.752930</td>\n",
       "      <td>12133176</td>\n",
       "      <td>increase</td>\n",
       "    </tr>\n",
       "    <tr>\n",
       "      <th>1730</th>\n",
       "      <td>Reliance Industries Share Price Live Updates: ...</td>\n",
       "      <td>https://news.google.com/rss/articles/CBMikgFod...</td>\n",
       "      <td>2023-11-29</td>\n",
       "      <td>reliance industries share price live updates r...</td>\n",
       "      <td>0.112121</td>\n",
       "      <td>2023-11-29</td>\n",
       "      <td>2408.000000</td>\n",
       "      <td>2411.949951</td>\n",
       "      <td>2398.050049</td>\n",
       "      <td>2400.699951</td>\n",
       "      <td>2400.699951</td>\n",
       "      <td>6265653</td>\n",
       "      <td>decrease</td>\n",
       "    </tr>\n",
       "    <tr>\n",
       "      <th>1150</th>\n",
       "      <td>Can hydrogen bus accelerate rally in this mult...</td>\n",
       "      <td>https://news.google.com/rss/articles/CBMihwFod...</td>\n",
       "      <td>2023-04-25</td>\n",
       "      <td>hydrogen bus accelerate rally multibagger ev s...</td>\n",
       "      <td>0.000000</td>\n",
       "      <td>2023-04-25</td>\n",
       "      <td>2183.817139</td>\n",
       "      <td>2197.292969</td>\n",
       "      <td>2169.510742</td>\n",
       "      <td>2193.093262</td>\n",
       "      <td>2185.373535</td>\n",
       "      <td>4618063</td>\n",
       "      <td>decrease</td>\n",
       "    </tr>\n",
       "    <tr>\n",
       "      <th>1249</th>\n",
       "      <td>RIL-Jio Financial Services Demerger Highlights...</td>\n",
       "      <td>https://news.google.com/rss/articles/CBMiugFod...</td>\n",
       "      <td>2023-07-20</td>\n",
       "      <td>ril jio financial services demerger highlights...</td>\n",
       "      <td>-0.129630</td>\n",
       "      <td>2023-07-20</td>\n",
       "      <td>2580.000000</td>\n",
       "      <td>2630.949951</td>\n",
       "      <td>2580.000000</td>\n",
       "      <td>2619.850098</td>\n",
       "      <td>2610.628174</td>\n",
       "      <td>19358812</td>\n",
       "      <td>decrease</td>\n",
       "    </tr>\n",
       "    <tr>\n",
       "      <th>1009</th>\n",
       "      <td>Indices end flat amidst volatility; IT, Energy...</td>\n",
       "      <td>https://news.google.com/rss/articles/CBMiigFod...</td>\n",
       "      <td>2023-01-31</td>\n",
       "      <td>indices end flat amidst volatility energy drag...</td>\n",
       "      <td>-0.062500</td>\n",
       "      <td>2023-01-31</td>\n",
       "      <td>2198.585205</td>\n",
       "      <td>2203.800293</td>\n",
       "      <td>2160.742188</td>\n",
       "      <td>2172.602783</td>\n",
       "      <td>2164.955078</td>\n",
       "      <td>11345797</td>\n",
       "      <td>decrease</td>\n",
       "    </tr>\n",
       "    <tr>\n",
       "      <th>639</th>\n",
       "      <td>Louis Vuitton to Gucci: Ambani betting on luxu...</td>\n",
       "      <td>https://news.google.com/rss/articles/CBMihwFod...</td>\n",
       "      <td>2022-04-26</td>\n",
       "      <td>louis vuitton gucci ambani betting luxury bran...</td>\n",
       "      <td>0.000000</td>\n",
       "      <td>2022-04-26</td>\n",
       "      <td>2501.329102</td>\n",
       "      <td>2579.784180</td>\n",
       "      <td>2499.206299</td>\n",
       "      <td>2561.924072</td>\n",
       "      <td>2544.603516</td>\n",
       "      <td>6113833</td>\n",
       "      <td>increase</td>\n",
       "    </tr>\n",
       "    <tr>\n",
       "      <th>1654</th>\n",
       "      <td>Adani Enterprises, Coal India top losers on Ni...</td>\n",
       "      <td>https://news.google.com/rss/articles/CBMizwFod...</td>\n",
       "      <td>2023-11-01</td>\n",
       "      <td>adani enterprises coal india top losers nifty5...</td>\n",
       "      <td>0.055556</td>\n",
       "      <td>2023-11-01</td>\n",
       "      <td>2289.149902</td>\n",
       "      <td>2317.500000</td>\n",
       "      <td>2275.199951</td>\n",
       "      <td>2297.399902</td>\n",
       "      <td>2297.399902</td>\n",
       "      <td>5154595</td>\n",
       "      <td>increase</td>\n",
       "    </tr>\n",
       "  </tbody>\n",
       "</table>\n",
       "</div>"
      ],
      "text/plain": [
       "                                                  title  \\\n",
       "636   For Reliance Jio, 5G holds key to future | Sto...   \n",
       "1056  Reliance Polyester completes acquisition of po...   \n",
       "657   6 Stocks That Lost Upto 20% In 7-Trading Days ...   \n",
       "114   Sebi slaps fine of Rs 25 cr on RIL promoters f...   \n",
       "1730  Reliance Industries Share Price Live Updates: ...   \n",
       "1150  Can hydrogen bus accelerate rally in this mult...   \n",
       "1249  RIL-Jio Financial Services Demerger Highlights...   \n",
       "1009  Indices end flat amidst volatility; IT, Energy...   \n",
       "639   Louis Vuitton to Gucci: Ambani betting on luxu...   \n",
       "1654  Adani Enterprises, Coal India top losers on Ni...   \n",
       "\n",
       "                                                   link    pub_date  \\\n",
       "636   https://news.google.com/rss/articles/CBMiamh0d...  2022-05-09   \n",
       "1056  https://news.google.com/rss/articles/CBMiuwFod...  2023-03-09   \n",
       "657   https://news.google.com/rss/articles/CBMiUmh0d...  2022-05-10   \n",
       "114   https://news.google.com/rss/articles/CBMiowFod...  2021-04-07   \n",
       "1730  https://news.google.com/rss/articles/CBMikgFod...  2023-11-29   \n",
       "1150  https://news.google.com/rss/articles/CBMihwFod...  2023-04-25   \n",
       "1249  https://news.google.com/rss/articles/CBMiugFod...  2023-07-20   \n",
       "1009  https://news.google.com/rss/articles/CBMiigFod...  2023-01-31   \n",
       "639   https://news.google.com/rss/articles/CBMihwFod...  2022-04-26   \n",
       "1654  https://news.google.com/rss/articles/CBMizwFod...  2023-11-01   \n",
       "\n",
       "                                           cleaned_text  sentiment  \\\n",
       "636   reliance jio 5g holds key future stock market ...   0.000000   \n",
       "1056  reliance polyester completes acquisition polye...   0.000000   \n",
       "657    6 stocks lost upto 20 7 trading days goodreturns   0.000000   \n",
       "114   sebi slaps fine rs 25 cr ril promoters violati...   0.416667   \n",
       "1730  reliance industries share price live updates r...   0.112121   \n",
       "1150  hydrogen bus accelerate rally multibagger ev s...   0.000000   \n",
       "1249  ril jio financial services demerger highlights...  -0.129630   \n",
       "1009  indices end flat amidst volatility energy drag...  -0.062500   \n",
       "639   louis vuitton gucci ambani betting luxury bran...   0.000000   \n",
       "1654  adani enterprises coal india top losers nifty5...   0.055556   \n",
       "\n",
       "            Date         Open         High          Low        Close  \\\n",
       "636   2022-05-09  2376.677979  2397.122559  2313.960205  2324.390137   \n",
       "1056  2023-03-09  2229.967285  2230.797852  2173.756592  2177.586914   \n",
       "657   2022-05-10  2302.884277  2332.051025  2268.733154  2284.101074   \n",
       "114   2021-04-07  1845.999390  1889.288086  1839.815308  1848.629883   \n",
       "1730  2023-11-29  2408.000000  2411.949951  2398.050049  2400.699951   \n",
       "1150  2023-04-25  2183.817139  2197.292969  2169.510742  2193.093262   \n",
       "1249  2023-07-20  2580.000000  2630.949951  2580.000000  2619.850098   \n",
       "1009  2023-01-31  2198.585205  2203.800293  2160.742188  2172.602783   \n",
       "639   2022-04-26  2501.329102  2579.784180  2499.206299  2561.924072   \n",
       "1654  2023-11-01  2289.149902  2317.500000  2275.199951  2297.399902   \n",
       "\n",
       "        Adj Close    Volume price_movement  \n",
       "636   2308.675537   9041876       decrease  \n",
       "1056  2169.921875   8117564       decrease  \n",
       "657   2268.658936   9755838       decrease  \n",
       "114   1829.752930  12133176       increase  \n",
       "1730  2400.699951   6265653       decrease  \n",
       "1150  2185.373535   4618063       decrease  \n",
       "1249  2610.628174  19358812       decrease  \n",
       "1009  2164.955078  11345797       decrease  \n",
       "639   2544.603516   6113833       increase  \n",
       "1654  2297.399902   5154595       increase  "
      ]
     },
     "execution_count": 21,
     "metadata": {},
     "output_type": "execute_result"
    }
   ],
   "source": [
    "merged_df.sample(10)"
   ]
  },
  {
   "cell_type": "markdown",
   "id": "259a5f02",
   "metadata": {},
   "source": [
    "# **Feature Extraction**"
   ]
  },
  {
   "cell_type": "code",
   "execution_count": 22,
   "id": "0d1eb3c4-acbc-4782-bd54-a3a633df7cea",
   "metadata": {},
   "outputs": [],
   "source": [
    "from sklearn.feature_extraction.text import TfidfVectorizer\n",
    "from sklearn.decomposition import LatentDirichletAllocation"
   ]
  },
  {
   "cell_type": "markdown",
   "id": "f0bdd5a5",
   "metadata": {},
   "source": [
    "***i. Frequencies of words in news***"
   ]
  },
  {
   "cell_type": "code",
   "execution_count": 23,
   "id": "8accb83e-4029-4ae1-822e-e6397a07fdab",
   "metadata": {},
   "outputs": [],
   "source": [
    "# Feature Extraction: TF-IDF\n",
    "tfidf_vectorizer = TfidfVectorizer(max_features=1000)\n",
    "tfidf_features = tfidf_vectorizer.fit_transform(merged_df['cleaned_text']).toarray()"
   ]
  },
  {
   "cell_type": "code",
   "execution_count": 24,
   "id": "04319559-53a9-4314-9b12-91603a470d49",
   "metadata": {},
   "outputs": [
    {
     "data": {
      "text/html": [
       "<div>\n",
       "<style scoped>\n",
       "    .dataframe tbody tr th:only-of-type {\n",
       "        vertical-align: middle;\n",
       "    }\n",
       "\n",
       "    .dataframe tbody tr th {\n",
       "        vertical-align: top;\n",
       "    }\n",
       "\n",
       "    .dataframe thead th {\n",
       "        text-align: right;\n",
       "    }\n",
       "</style>\n",
       "<table border=\"1\" class=\"dataframe\">\n",
       "  <thead>\n",
       "    <tr style=\"text-align: right;\">\n",
       "      <th></th>\n",
       "      <th>title</th>\n",
       "      <th>link</th>\n",
       "      <th>pub_date</th>\n",
       "      <th>cleaned_text</th>\n",
       "      <th>sentiment</th>\n",
       "      <th>Date</th>\n",
       "      <th>Open</th>\n",
       "      <th>High</th>\n",
       "      <th>Low</th>\n",
       "      <th>Close</th>\n",
       "      <th>...</th>\n",
       "      <th>yet</th>\n",
       "      <th>zara</th>\n",
       "      <th>zealand</th>\n",
       "      <th>zee</th>\n",
       "      <th>zero</th>\n",
       "      <th>zerodha</th>\n",
       "      <th>zomato</th>\n",
       "      <th>zoom</th>\n",
       "      <th>zoomed</th>\n",
       "      <th>zooms</th>\n",
       "    </tr>\n",
       "  </thead>\n",
       "  <tbody>\n",
       "    <tr>\n",
       "      <th>0</th>\n",
       "      <td>Stocks To Watch: Reliance Industries, Bajaj Fi...</td>\n",
       "      <td>https://news.google.com/rss/articles/CBMiggFod...</td>\n",
       "      <td>2021-01-21</td>\n",
       "      <td>stocks watch reliance industries bajaj finance...</td>\n",
       "      <td>0.0</td>\n",
       "      <td>2021-01-21</td>\n",
       "      <td>1921.685303</td>\n",
       "      <td>1956.759277</td>\n",
       "      <td>1915.224365</td>\n",
       "      <td>1937.745483</td>\n",
       "      <td>...</td>\n",
       "      <td>0.0</td>\n",
       "      <td>0.0</td>\n",
       "      <td>0.0</td>\n",
       "      <td>0.0</td>\n",
       "      <td>0.0</td>\n",
       "      <td>0.0</td>\n",
       "      <td>0.0</td>\n",
       "      <td>0.0</td>\n",
       "      <td>0.0</td>\n",
       "      <td>0.0</td>\n",
       "    </tr>\n",
       "    <tr>\n",
       "      <th>1</th>\n",
       "      <td>Sensex at 50000: Six stocks that have been par...</td>\n",
       "      <td>https://news.google.com/rss/articles/CBMilgFod...</td>\n",
       "      <td>2021-01-21</td>\n",
       "      <td>sensex 50000 six stocks part index dream run b...</td>\n",
       "      <td>0.0</td>\n",
       "      <td>2021-01-21</td>\n",
       "      <td>1921.685303</td>\n",
       "      <td>1956.759277</td>\n",
       "      <td>1915.224365</td>\n",
       "      <td>1937.745483</td>\n",
       "      <td>...</td>\n",
       "      <td>0.0</td>\n",
       "      <td>0.0</td>\n",
       "      <td>0.0</td>\n",
       "      <td>0.0</td>\n",
       "      <td>0.0</td>\n",
       "      <td>0.0</td>\n",
       "      <td>0.0</td>\n",
       "      <td>0.0</td>\n",
       "      <td>0.0</td>\n",
       "      <td>0.0</td>\n",
       "    </tr>\n",
       "    <tr>\n",
       "      <th>2</th>\n",
       "      <td>Karnataka farmers sell paddy to Reliance Retai...</td>\n",
       "      <td>https://news.google.com/rss/articles/CBMicWh0d...</td>\n",
       "      <td>2021-01-11</td>\n",
       "      <td>karnataka farmers sell paddy reliance retail m...</td>\n",
       "      <td>0.0</td>\n",
       "      <td>2021-01-11</td>\n",
       "      <td>1789.511719</td>\n",
       "      <td>1789.511719</td>\n",
       "      <td>1746.776855</td>\n",
       "      <td>1751.161133</td>\n",
       "      <td>...</td>\n",
       "      <td>0.0</td>\n",
       "      <td>0.0</td>\n",
       "      <td>0.0</td>\n",
       "      <td>0.0</td>\n",
       "      <td>0.0</td>\n",
       "      <td>0.0</td>\n",
       "      <td>0.0</td>\n",
       "      <td>0.0</td>\n",
       "      <td>0.0</td>\n",
       "      <td>0.0</td>\n",
       "    </tr>\n",
       "    <tr>\n",
       "      <th>3</th>\n",
       "      <td>Closing Bell: Nifty below 14,150, Sensex falls...</td>\n",
       "      <td>https://news.google.com/rss/articles/CBMi-wFod...</td>\n",
       "      <td>2021-01-06</td>\n",
       "      <td>closing bell nifty 14 150 sensex falls 263 pts...</td>\n",
       "      <td>-0.1</td>\n",
       "      <td>2021-01-06</td>\n",
       "      <td>1814.525024</td>\n",
       "      <td>1814.617310</td>\n",
       "      <td>1758.452881</td>\n",
       "      <td>1766.852173</td>\n",
       "      <td>...</td>\n",
       "      <td>0.0</td>\n",
       "      <td>0.0</td>\n",
       "      <td>0.0</td>\n",
       "      <td>0.0</td>\n",
       "      <td>0.0</td>\n",
       "      <td>0.0</td>\n",
       "      <td>0.0</td>\n",
       "      <td>0.0</td>\n",
       "      <td>0.0</td>\n",
       "      <td>0.0</td>\n",
       "    </tr>\n",
       "    <tr>\n",
       "      <th>4</th>\n",
       "      <td>Delhi HC directs Future to file response to Am...</td>\n",
       "      <td>https://news.google.com/rss/articles/CBMitwFod...</td>\n",
       "      <td>2021-01-13</td>\n",
       "      <td>delhi hc directs future file response amazon p...</td>\n",
       "      <td>0.0</td>\n",
       "      <td>2021-01-13</td>\n",
       "      <td>1812.355957</td>\n",
       "      <td>1822.878174</td>\n",
       "      <td>1770.728760</td>\n",
       "      <td>1789.511719</td>\n",
       "      <td>...</td>\n",
       "      <td>0.0</td>\n",
       "      <td>0.0</td>\n",
       "      <td>0.0</td>\n",
       "      <td>0.0</td>\n",
       "      <td>0.0</td>\n",
       "      <td>0.0</td>\n",
       "      <td>0.0</td>\n",
       "      <td>0.0</td>\n",
       "      <td>0.0</td>\n",
       "      <td>0.0</td>\n",
       "    </tr>\n",
       "    <tr>\n",
       "      <th>...</th>\n",
       "      <td>...</td>\n",
       "      <td>...</td>\n",
       "      <td>...</td>\n",
       "      <td>...</td>\n",
       "      <td>...</td>\n",
       "      <td>...</td>\n",
       "      <td>...</td>\n",
       "      <td>...</td>\n",
       "      <td>...</td>\n",
       "      <td>...</td>\n",
       "      <td>...</td>\n",
       "      <td>...</td>\n",
       "      <td>...</td>\n",
       "      <td>...</td>\n",
       "      <td>...</td>\n",
       "      <td>...</td>\n",
       "      <td>...</td>\n",
       "      <td>...</td>\n",
       "      <td>...</td>\n",
       "      <td>...</td>\n",
       "      <td>...</td>\n",
       "    </tr>\n",
       "    <tr>\n",
       "      <th>1347</th>\n",
       "      <td>Stocks to watch: Reliance Industries, Infosys,...</td>\n",
       "      <td>https://news.google.com/rss/articles/CBMie2h0d...</td>\n",
       "      <td>2023-12-26</td>\n",
       "      <td>stocks watch reliance industries infosys jk ty...</td>\n",
       "      <td>0.0</td>\n",
       "      <td>2023-12-26</td>\n",
       "      <td>2568.000000</td>\n",
       "      <td>2591.949951</td>\n",
       "      <td>2562.699951</td>\n",
       "      <td>2578.050049</td>\n",
       "      <td>...</td>\n",
       "      <td>0.0</td>\n",
       "      <td>0.0</td>\n",
       "      <td>0.0</td>\n",
       "      <td>0.0</td>\n",
       "      <td>0.0</td>\n",
       "      <td>0.0</td>\n",
       "      <td>0.0</td>\n",
       "      <td>0.0</td>\n",
       "      <td>0.0</td>\n",
       "      <td>0.0</td>\n",
       "    </tr>\n",
       "    <tr>\n",
       "      <th>1348</th>\n",
       "      <td>Stocks to watch out for today: KPIT Tech, RIL,...</td>\n",
       "      <td>https://news.google.com/rss/articles/CBMiiAFod...</td>\n",
       "      <td>2023-12-26</td>\n",
       "      <td>stocks watch today kpit tech ril tata steel bi...</td>\n",
       "      <td>0.0</td>\n",
       "      <td>2023-12-26</td>\n",
       "      <td>2568.000000</td>\n",
       "      <td>2591.949951</td>\n",
       "      <td>2562.699951</td>\n",
       "      <td>2578.050049</td>\n",
       "      <td>...</td>\n",
       "      <td>0.0</td>\n",
       "      <td>0.0</td>\n",
       "      <td>0.0</td>\n",
       "      <td>0.0</td>\n",
       "      <td>0.0</td>\n",
       "      <td>0.0</td>\n",
       "      <td>0.0</td>\n",
       "      <td>0.0</td>\n",
       "      <td>0.0</td>\n",
       "      <td>0.0</td>\n",
       "    </tr>\n",
       "    <tr>\n",
       "      <th>1349</th>\n",
       "      <td>Stocks that will see action today: December 26...</td>\n",
       "      <td>https://news.google.com/rss/articles/CBMic2h0d...</td>\n",
       "      <td>2023-12-26</td>\n",
       "      <td>stocks see action today december 26 2023 busin...</td>\n",
       "      <td>0.1</td>\n",
       "      <td>2023-12-26</td>\n",
       "      <td>2568.000000</td>\n",
       "      <td>2591.949951</td>\n",
       "      <td>2562.699951</td>\n",
       "      <td>2578.050049</td>\n",
       "      <td>...</td>\n",
       "      <td>0.0</td>\n",
       "      <td>0.0</td>\n",
       "      <td>0.0</td>\n",
       "      <td>0.0</td>\n",
       "      <td>0.0</td>\n",
       "      <td>0.0</td>\n",
       "      <td>0.0</td>\n",
       "      <td>0.0</td>\n",
       "      <td>0.0</td>\n",
       "      <td>0.0</td>\n",
       "    </tr>\n",
       "    <tr>\n",
       "      <th>1350</th>\n",
       "      <td>Stocks in news: RIL, Tata Steel, UPL, Infosys,...</td>\n",
       "      <td>https://news.google.com/rss/articles/CBMigAFod...</td>\n",
       "      <td>2023-12-26</td>\n",
       "      <td>stocks news ril tata steel upl infosys adani w...</td>\n",
       "      <td>0.0</td>\n",
       "      <td>2023-12-26</td>\n",
       "      <td>2568.000000</td>\n",
       "      <td>2591.949951</td>\n",
       "      <td>2562.699951</td>\n",
       "      <td>2578.050049</td>\n",
       "      <td>...</td>\n",
       "      <td>0.0</td>\n",
       "      <td>0.0</td>\n",
       "      <td>0.0</td>\n",
       "      <td>0.0</td>\n",
       "      <td>0.0</td>\n",
       "      <td>0.0</td>\n",
       "      <td>0.0</td>\n",
       "      <td>0.0</td>\n",
       "      <td>0.0</td>\n",
       "      <td>0.0</td>\n",
       "    </tr>\n",
       "    <tr>\n",
       "      <th>1351</th>\n",
       "      <td>Stocks to watch out for today: Tata Power, KPI...</td>\n",
       "      <td>https://news.google.com/rss/articles/CBMilQFod...</td>\n",
       "      <td>2023-12-28</td>\n",
       "      <td>stocks watch today tata power kpi green canara...</td>\n",
       "      <td>-0.2</td>\n",
       "      <td>2023-12-28</td>\n",
       "      <td>2589.800049</td>\n",
       "      <td>2612.000000</td>\n",
       "      <td>2586.850098</td>\n",
       "      <td>2605.550049</td>\n",
       "      <td>...</td>\n",
       "      <td>0.0</td>\n",
       "      <td>0.0</td>\n",
       "      <td>0.0</td>\n",
       "      <td>0.0</td>\n",
       "      <td>0.0</td>\n",
       "      <td>0.0</td>\n",
       "      <td>0.0</td>\n",
       "      <td>0.0</td>\n",
       "      <td>0.0</td>\n",
       "      <td>0.0</td>\n",
       "    </tr>\n",
       "  </tbody>\n",
       "</table>\n",
       "<p>1352 rows × 1013 columns</p>\n",
       "</div>"
      ],
      "text/plain": [
       "                                                  title  \\\n",
       "0     Stocks To Watch: Reliance Industries, Bajaj Fi...   \n",
       "1     Sensex at 50000: Six stocks that have been par...   \n",
       "2     Karnataka farmers sell paddy to Reliance Retai...   \n",
       "3     Closing Bell: Nifty below 14,150, Sensex falls...   \n",
       "4     Delhi HC directs Future to file response to Am...   \n",
       "...                                                 ...   \n",
       "1347  Stocks to watch: Reliance Industries, Infosys,...   \n",
       "1348  Stocks to watch out for today: KPIT Tech, RIL,...   \n",
       "1349  Stocks that will see action today: December 26...   \n",
       "1350  Stocks in news: RIL, Tata Steel, UPL, Infosys,...   \n",
       "1351  Stocks to watch out for today: Tata Power, KPI...   \n",
       "\n",
       "                                                   link    pub_date  \\\n",
       "0     https://news.google.com/rss/articles/CBMiggFod...  2021-01-21   \n",
       "1     https://news.google.com/rss/articles/CBMilgFod...  2021-01-21   \n",
       "2     https://news.google.com/rss/articles/CBMicWh0d...  2021-01-11   \n",
       "3     https://news.google.com/rss/articles/CBMi-wFod...  2021-01-06   \n",
       "4     https://news.google.com/rss/articles/CBMitwFod...  2021-01-13   \n",
       "...                                                 ...         ...   \n",
       "1347  https://news.google.com/rss/articles/CBMie2h0d...  2023-12-26   \n",
       "1348  https://news.google.com/rss/articles/CBMiiAFod...  2023-12-26   \n",
       "1349  https://news.google.com/rss/articles/CBMic2h0d...  2023-12-26   \n",
       "1350  https://news.google.com/rss/articles/CBMigAFod...  2023-12-26   \n",
       "1351  https://news.google.com/rss/articles/CBMilQFod...  2023-12-28   \n",
       "\n",
       "                                           cleaned_text  sentiment  \\\n",
       "0     stocks watch reliance industries bajaj finance...        0.0   \n",
       "1     sensex 50000 six stocks part index dream run b...        0.0   \n",
       "2     karnataka farmers sell paddy reliance retail m...        0.0   \n",
       "3     closing bell nifty 14 150 sensex falls 263 pts...       -0.1   \n",
       "4     delhi hc directs future file response amazon p...        0.0   \n",
       "...                                                 ...        ...   \n",
       "1347  stocks watch reliance industries infosys jk ty...        0.0   \n",
       "1348  stocks watch today kpit tech ril tata steel bi...        0.0   \n",
       "1349  stocks see action today december 26 2023 busin...        0.1   \n",
       "1350  stocks news ril tata steel upl infosys adani w...        0.0   \n",
       "1351  stocks watch today tata power kpi green canara...       -0.2   \n",
       "\n",
       "            Date         Open         High          Low        Close  ...  \\\n",
       "0     2021-01-21  1921.685303  1956.759277  1915.224365  1937.745483  ...   \n",
       "1     2021-01-21  1921.685303  1956.759277  1915.224365  1937.745483  ...   \n",
       "2     2021-01-11  1789.511719  1789.511719  1746.776855  1751.161133  ...   \n",
       "3     2021-01-06  1814.525024  1814.617310  1758.452881  1766.852173  ...   \n",
       "4     2021-01-13  1812.355957  1822.878174  1770.728760  1789.511719  ...   \n",
       "...          ...          ...          ...          ...          ...  ...   \n",
       "1347  2023-12-26  2568.000000  2591.949951  2562.699951  2578.050049  ...   \n",
       "1348  2023-12-26  2568.000000  2591.949951  2562.699951  2578.050049  ...   \n",
       "1349  2023-12-26  2568.000000  2591.949951  2562.699951  2578.050049  ...   \n",
       "1350  2023-12-26  2568.000000  2591.949951  2562.699951  2578.050049  ...   \n",
       "1351  2023-12-28  2589.800049  2612.000000  2586.850098  2605.550049  ...   \n",
       "\n",
       "      yet  zara zealand  zee  zero  zerodha  zomato  zoom  zoomed  zooms  \n",
       "0     0.0   0.0     0.0  0.0   0.0      0.0     0.0   0.0     0.0    0.0  \n",
       "1     0.0   0.0     0.0  0.0   0.0      0.0     0.0   0.0     0.0    0.0  \n",
       "2     0.0   0.0     0.0  0.0   0.0      0.0     0.0   0.0     0.0    0.0  \n",
       "3     0.0   0.0     0.0  0.0   0.0      0.0     0.0   0.0     0.0    0.0  \n",
       "4     0.0   0.0     0.0  0.0   0.0      0.0     0.0   0.0     0.0    0.0  \n",
       "...   ...   ...     ...  ...   ...      ...     ...   ...     ...    ...  \n",
       "1347  0.0   0.0     0.0  0.0   0.0      0.0     0.0   0.0     0.0    0.0  \n",
       "1348  0.0   0.0     0.0  0.0   0.0      0.0     0.0   0.0     0.0    0.0  \n",
       "1349  0.0   0.0     0.0  0.0   0.0      0.0     0.0   0.0     0.0    0.0  \n",
       "1350  0.0   0.0     0.0  0.0   0.0      0.0     0.0   0.0     0.0    0.0  \n",
       "1351  0.0   0.0     0.0  0.0   0.0      0.0     0.0   0.0     0.0    0.0  \n",
       "\n",
       "[1352 rows x 1013 columns]"
      ]
     },
     "execution_count": 24,
     "metadata": {},
     "output_type": "execute_result"
    }
   ],
   "source": [
    "# Add TF-IDF features to the DataFrame\n",
    "tfidf_df = pd.DataFrame(tfidf_features, columns=tfidf_vectorizer.get_feature_names_out())\n",
    "merged_df = pd.concat([merged_df.reset_index(drop=True), tfidf_df.reset_index(drop=True)], axis=1)\n",
    "merged_df"
   ]
  },
  {
   "cell_type": "markdown",
   "id": "7c0cd5ab",
   "metadata": {},
   "source": [
    "***ii. Topic Modelling***"
   ]
  },
  {
   "cell_type": "code",
   "execution_count": 25,
   "id": "bda77cf9-1670-46be-a8a1-bdfed778a56d",
   "metadata": {},
   "outputs": [],
   "source": [
    "# Feature Extraction: LDA (Topic Modeling)\n",
    "lda_model = LatentDirichletAllocation(n_components=10, random_state=42)\n",
    "lda_features = lda_model.fit_transform(tfidf_features)"
   ]
  },
  {
   "cell_type": "code",
   "execution_count": 26,
   "id": "2f02622a-68c2-4bf5-bd4d-5fece8ac487b",
   "metadata": {},
   "outputs": [],
   "source": [
    "# Add LDA features to the DataFrame\n",
    "for i in range(lda_features.shape[1]):\n",
    "    merged_df[f'topic_{i}'] = lda_features[:, i]"
   ]
  },
  {
   "cell_type": "code",
   "execution_count": 27,
   "id": "284b1a4c-c427-4f4e-bedd-016c96032255",
   "metadata": {},
   "outputs": [
    {
     "data": {
      "text/html": [
       "<div>\n",
       "<style scoped>\n",
       "    .dataframe tbody tr th:only-of-type {\n",
       "        vertical-align: middle;\n",
       "    }\n",
       "\n",
       "    .dataframe tbody tr th {\n",
       "        vertical-align: top;\n",
       "    }\n",
       "\n",
       "    .dataframe thead th {\n",
       "        text-align: right;\n",
       "    }\n",
       "</style>\n",
       "<table border=\"1\" class=\"dataframe\">\n",
       "  <thead>\n",
       "    <tr style=\"text-align: right;\">\n",
       "      <th></th>\n",
       "      <th>title</th>\n",
       "      <th>link</th>\n",
       "      <th>pub_date</th>\n",
       "      <th>cleaned_text</th>\n",
       "      <th>sentiment</th>\n",
       "      <th>Date</th>\n",
       "      <th>Open</th>\n",
       "      <th>High</th>\n",
       "      <th>Low</th>\n",
       "      <th>Close</th>\n",
       "      <th>...</th>\n",
       "      <th>topic_0</th>\n",
       "      <th>topic_1</th>\n",
       "      <th>topic_2</th>\n",
       "      <th>topic_3</th>\n",
       "      <th>topic_4</th>\n",
       "      <th>topic_5</th>\n",
       "      <th>topic_6</th>\n",
       "      <th>topic_7</th>\n",
       "      <th>topic_8</th>\n",
       "      <th>topic_9</th>\n",
       "    </tr>\n",
       "  </thead>\n",
       "  <tbody>\n",
       "    <tr>\n",
       "      <th>0</th>\n",
       "      <td>Stocks To Watch: Reliance Industries, Bajaj Fi...</td>\n",
       "      <td>https://news.google.com/rss/articles/CBMiggFod...</td>\n",
       "      <td>2021-01-21</td>\n",
       "      <td>stocks watch reliance industries bajaj finance...</td>\n",
       "      <td>0.0</td>\n",
       "      <td>2021-01-21</td>\n",
       "      <td>1921.685303</td>\n",
       "      <td>1956.759277</td>\n",
       "      <td>1915.224365</td>\n",
       "      <td>1937.745483</td>\n",
       "      <td>...</td>\n",
       "      <td>0.388491</td>\n",
       "      <td>0.025131</td>\n",
       "      <td>0.025135</td>\n",
       "      <td>0.025130</td>\n",
       "      <td>0.252022</td>\n",
       "      <td>0.025141</td>\n",
       "      <td>0.183551</td>\n",
       "      <td>0.025133</td>\n",
       "      <td>0.025133</td>\n",
       "      <td>0.025132</td>\n",
       "    </tr>\n",
       "    <tr>\n",
       "      <th>1</th>\n",
       "      <td>Sensex at 50000: Six stocks that have been par...</td>\n",
       "      <td>https://news.google.com/rss/articles/CBMilgFod...</td>\n",
       "      <td>2021-01-21</td>\n",
       "      <td>sensex 50000 six stocks part index dream run b...</td>\n",
       "      <td>0.0</td>\n",
       "      <td>2021-01-21</td>\n",
       "      <td>1921.685303</td>\n",
       "      <td>1956.759277</td>\n",
       "      <td>1915.224365</td>\n",
       "      <td>1937.745483</td>\n",
       "      <td>...</td>\n",
       "      <td>0.029261</td>\n",
       "      <td>0.029259</td>\n",
       "      <td>0.029262</td>\n",
       "      <td>0.029259</td>\n",
       "      <td>0.029261</td>\n",
       "      <td>0.029263</td>\n",
       "      <td>0.029265</td>\n",
       "      <td>0.029262</td>\n",
       "      <td>0.193194</td>\n",
       "      <td>0.572713</td>\n",
       "    </tr>\n",
       "    <tr>\n",
       "      <th>2</th>\n",
       "      <td>Karnataka farmers sell paddy to Reliance Retai...</td>\n",
       "      <td>https://news.google.com/rss/articles/CBMicWh0d...</td>\n",
       "      <td>2021-01-11</td>\n",
       "      <td>karnataka farmers sell paddy reliance retail m...</td>\n",
       "      <td>0.0</td>\n",
       "      <td>2021-01-11</td>\n",
       "      <td>1789.511719</td>\n",
       "      <td>1789.511719</td>\n",
       "      <td>1746.776855</td>\n",
       "      <td>1751.161133</td>\n",
       "      <td>...</td>\n",
       "      <td>0.034301</td>\n",
       "      <td>0.691308</td>\n",
       "      <td>0.034292</td>\n",
       "      <td>0.034293</td>\n",
       "      <td>0.034297</td>\n",
       "      <td>0.034320</td>\n",
       "      <td>0.034294</td>\n",
       "      <td>0.034297</td>\n",
       "      <td>0.034299</td>\n",
       "      <td>0.034299</td>\n",
       "    </tr>\n",
       "    <tr>\n",
       "      <th>3</th>\n",
       "      <td>Closing Bell: Nifty below 14,150, Sensex falls...</td>\n",
       "      <td>https://news.google.com/rss/articles/CBMi-wFod...</td>\n",
       "      <td>2021-01-06</td>\n",
       "      <td>closing bell nifty 14 150 sensex falls 263 pts...</td>\n",
       "      <td>-0.1</td>\n",
       "      <td>2021-01-06</td>\n",
       "      <td>1814.525024</td>\n",
       "      <td>1814.617310</td>\n",
       "      <td>1758.452881</td>\n",
       "      <td>1766.852173</td>\n",
       "      <td>...</td>\n",
       "      <td>0.023110</td>\n",
       "      <td>0.023110</td>\n",
       "      <td>0.023110</td>\n",
       "      <td>0.023110</td>\n",
       "      <td>0.023110</td>\n",
       "      <td>0.023110</td>\n",
       "      <td>0.023112</td>\n",
       "      <td>0.115357</td>\n",
       "      <td>0.023110</td>\n",
       "      <td>0.699761</td>\n",
       "    </tr>\n",
       "    <tr>\n",
       "      <th>4</th>\n",
       "      <td>Delhi HC directs Future to file response to Am...</td>\n",
       "      <td>https://news.google.com/rss/articles/CBMitwFod...</td>\n",
       "      <td>2021-01-13</td>\n",
       "      <td>delhi hc directs future file response amazon p...</td>\n",
       "      <td>0.0</td>\n",
       "      <td>2021-01-13</td>\n",
       "      <td>1812.355957</td>\n",
       "      <td>1822.878174</td>\n",
       "      <td>1770.728760</td>\n",
       "      <td>1789.511719</td>\n",
       "      <td>...</td>\n",
       "      <td>0.034397</td>\n",
       "      <td>0.034403</td>\n",
       "      <td>0.034396</td>\n",
       "      <td>0.034397</td>\n",
       "      <td>0.034402</td>\n",
       "      <td>0.034396</td>\n",
       "      <td>0.034401</td>\n",
       "      <td>0.690408</td>\n",
       "      <td>0.034404</td>\n",
       "      <td>0.034396</td>\n",
       "    </tr>\n",
       "  </tbody>\n",
       "</table>\n",
       "<p>5 rows × 1023 columns</p>\n",
       "</div>"
      ],
      "text/plain": [
       "                                               title  \\\n",
       "0  Stocks To Watch: Reliance Industries, Bajaj Fi...   \n",
       "1  Sensex at 50000: Six stocks that have been par...   \n",
       "2  Karnataka farmers sell paddy to Reliance Retai...   \n",
       "3  Closing Bell: Nifty below 14,150, Sensex falls...   \n",
       "4  Delhi HC directs Future to file response to Am...   \n",
       "\n",
       "                                                link    pub_date  \\\n",
       "0  https://news.google.com/rss/articles/CBMiggFod...  2021-01-21   \n",
       "1  https://news.google.com/rss/articles/CBMilgFod...  2021-01-21   \n",
       "2  https://news.google.com/rss/articles/CBMicWh0d...  2021-01-11   \n",
       "3  https://news.google.com/rss/articles/CBMi-wFod...  2021-01-06   \n",
       "4  https://news.google.com/rss/articles/CBMitwFod...  2021-01-13   \n",
       "\n",
       "                                        cleaned_text  sentiment        Date  \\\n",
       "0  stocks watch reliance industries bajaj finance...        0.0  2021-01-21   \n",
       "1  sensex 50000 six stocks part index dream run b...        0.0  2021-01-21   \n",
       "2  karnataka farmers sell paddy reliance retail m...        0.0  2021-01-11   \n",
       "3  closing bell nifty 14 150 sensex falls 263 pts...       -0.1  2021-01-06   \n",
       "4  delhi hc directs future file response amazon p...        0.0  2021-01-13   \n",
       "\n",
       "          Open         High          Low        Close  ...   topic_0  \\\n",
       "0  1921.685303  1956.759277  1915.224365  1937.745483  ...  0.388491   \n",
       "1  1921.685303  1956.759277  1915.224365  1937.745483  ...  0.029261   \n",
       "2  1789.511719  1789.511719  1746.776855  1751.161133  ...  0.034301   \n",
       "3  1814.525024  1814.617310  1758.452881  1766.852173  ...  0.023110   \n",
       "4  1812.355957  1822.878174  1770.728760  1789.511719  ...  0.034397   \n",
       "\n",
       "    topic_1   topic_2   topic_3   topic_4   topic_5   topic_6   topic_7  \\\n",
       "0  0.025131  0.025135  0.025130  0.252022  0.025141  0.183551  0.025133   \n",
       "1  0.029259  0.029262  0.029259  0.029261  0.029263  0.029265  0.029262   \n",
       "2  0.691308  0.034292  0.034293  0.034297  0.034320  0.034294  0.034297   \n",
       "3  0.023110  0.023110  0.023110  0.023110  0.023110  0.023112  0.115357   \n",
       "4  0.034403  0.034396  0.034397  0.034402  0.034396  0.034401  0.690408   \n",
       "\n",
       "    topic_8   topic_9  \n",
       "0  0.025133  0.025132  \n",
       "1  0.193194  0.572713  \n",
       "2  0.034299  0.034299  \n",
       "3  0.023110  0.699761  \n",
       "4  0.034404  0.034396  \n",
       "\n",
       "[5 rows x 1023 columns]"
      ]
     },
     "execution_count": 27,
     "metadata": {},
     "output_type": "execute_result"
    }
   ],
   "source": [
    "# Save the final labeled and feature-enriched data\n",
    "merged_df.to_csv('labeled_data_with_features.csv', index=False)\n",
    "merged_df.head()"
   ]
  },
  {
   "cell_type": "markdown",
   "id": "ed4a5a79",
   "metadata": {},
   "source": [
    "# **Label Encoding on price_movement feature**"
   ]
  },
  {
   "cell_type": "code",
   "execution_count": 28,
   "id": "e798f57a-f8b0-41f7-bb05-d89da94059b0",
   "metadata": {},
   "outputs": [
    {
     "data": {
      "text/html": [
       "<div>\n",
       "<style scoped>\n",
       "    .dataframe tbody tr th:only-of-type {\n",
       "        vertical-align: middle;\n",
       "    }\n",
       "\n",
       "    .dataframe tbody tr th {\n",
       "        vertical-align: top;\n",
       "    }\n",
       "\n",
       "    .dataframe thead th {\n",
       "        text-align: right;\n",
       "    }\n",
       "</style>\n",
       "<table border=\"1\" class=\"dataframe\">\n",
       "  <thead>\n",
       "    <tr style=\"text-align: right;\">\n",
       "      <th></th>\n",
       "      <th>encoded_movement</th>\n",
       "      <th>price_movement</th>\n",
       "    </tr>\n",
       "  </thead>\n",
       "  <tbody>\n",
       "    <tr>\n",
       "      <th>0</th>\n",
       "      <td>0</td>\n",
       "      <td>decrease</td>\n",
       "    </tr>\n",
       "    <tr>\n",
       "      <th>1</th>\n",
       "      <td>0</td>\n",
       "      <td>decrease</td>\n",
       "    </tr>\n",
       "    <tr>\n",
       "      <th>2</th>\n",
       "      <td>1</td>\n",
       "      <td>increase</td>\n",
       "    </tr>\n",
       "    <tr>\n",
       "      <th>3</th>\n",
       "      <td>0</td>\n",
       "      <td>decrease</td>\n",
       "    </tr>\n",
       "    <tr>\n",
       "      <th>4</th>\n",
       "      <td>1</td>\n",
       "      <td>increase</td>\n",
       "    </tr>\n",
       "    <tr>\n",
       "      <th>...</th>\n",
       "      <td>...</td>\n",
       "      <td>...</td>\n",
       "    </tr>\n",
       "    <tr>\n",
       "      <th>1347</th>\n",
       "      <td>1</td>\n",
       "      <td>increase</td>\n",
       "    </tr>\n",
       "    <tr>\n",
       "      <th>1348</th>\n",
       "      <td>1</td>\n",
       "      <td>increase</td>\n",
       "    </tr>\n",
       "    <tr>\n",
       "      <th>1349</th>\n",
       "      <td>1</td>\n",
       "      <td>increase</td>\n",
       "    </tr>\n",
       "    <tr>\n",
       "      <th>1350</th>\n",
       "      <td>1</td>\n",
       "      <td>increase</td>\n",
       "    </tr>\n",
       "    <tr>\n",
       "      <th>1351</th>\n",
       "      <td>0</td>\n",
       "      <td>decrease</td>\n",
       "    </tr>\n",
       "  </tbody>\n",
       "</table>\n",
       "<p>1352 rows × 2 columns</p>\n",
       "</div>"
      ],
      "text/plain": [
       "      encoded_movement price_movement\n",
       "0                    0       decrease\n",
       "1                    0       decrease\n",
       "2                    1       increase\n",
       "3                    0       decrease\n",
       "4                    1       increase\n",
       "...                ...            ...\n",
       "1347                 1       increase\n",
       "1348                 1       increase\n",
       "1349                 1       increase\n",
       "1350                 1       increase\n",
       "1351                 0       decrease\n",
       "\n",
       "[1352 rows x 2 columns]"
      ]
     },
     "execution_count": 28,
     "metadata": {},
     "output_type": "execute_result"
    }
   ],
   "source": [
    "from sklearn.preprocessing import LabelEncoder\n",
    "from sklearn.metrics import classification_report, accuracy_score, confusion_matrix, roc_curve, auc\n",
    "import numpy as np\n",
    "\n",
    "# Load the labeled dataset with features\n",
    "data = pd.read_csv('labeled_data_with_features.csv')\n",
    "\n",
    "# Label encode the target variable\n",
    "label_encoder = LabelEncoder()\n",
    "data['encoded_movement'] = label_encoder.fit_transform(data['price_movement'])\n",
    "data[['encoded_movement','price_movement']]"
   ]
  },
  {
   "cell_type": "markdown",
   "id": "2432221d",
   "metadata": {},
   "source": [
    "# **Training of ML models to predict price movement**"
   ]
  },
  {
   "cell_type": "code",
   "execution_count": 29,
   "id": "cc4c1e4e-eadc-426f-8a26-d9b2cfda0e87",
   "metadata": {},
   "outputs": [],
   "source": [
    "from sklearn.model_selection import train_test_split\n",
    "# Select relevant features and target\n",
    "X = data[['sentiment'] + list(data.columns[-1:-11])]  # Sentiment and TF-IDF f eatures\n",
    "y = data['encoded_movement']  # Encoded target variable\n",
    "\n",
    "# Split data into train and test sets\n",
    "X_train, X_test, y_train, y_test = train_test_split(X, y, test_size=0.2, random_state=42)\n",
    "y_test = label_encoder.inverse_transform(y_test)\n",
    "\n",
    "# Convert categorical labels to binary labels using numpy\n",
    "y_test_binary = np.where(y_test == 'increase', 1, 0)"
   ]
  },
  {
   "cell_type": "markdown",
   "id": "1d27b6dd",
   "metadata": {},
   "source": [
    "***i. Logistic Regression***"
   ]
  },
  {
   "cell_type": "code",
   "execution_count": 30,
   "id": "6fc95f6c-b328-4b26-8d11-0038dd8109cd",
   "metadata": {},
   "outputs": [
    {
     "name": "stdout",
     "output_type": "stream",
     "text": [
      "Logistic Regression:\n",
      "              precision    recall  f1-score   support\n",
      "\n",
      "           0       0.48      0.87      0.62       128\n",
      "           1       0.60      0.17      0.27       143\n",
      "\n",
      "    accuracy                           0.50       271\n",
      "   macro avg       0.54      0.52      0.45       271\n",
      "weighted avg       0.54      0.50      0.44       271\n",
      "\n",
      "Accuracy: 0.5018450184501845\n"
     ]
    }
   ],
   "source": [
    "# Train Logistic Regression model\n",
    "from sklearn.linear_model import LogisticRegression\n",
    "logreg = LogisticRegression(max_iter=1000, random_state=42)\n",
    "logreg.fit(X_train, y_train)\n",
    "y_pred_logreg = logreg.predict(X_test)\n",
    "y_pred_logreg = label_encoder.inverse_transform(y_pred_logreg)\n",
    "y_pred_logreg = np.where(y_pred_logreg == 'increase', 1, 0)\n",
    "\n",
    "# Evaluate models\n",
    "print(\"Logistic Regression:\")\n",
    "print(classification_report(y_test_binary, y_pred_logreg))\n",
    "print(\"Accuracy:\", accuracy_score(y_test_binary, y_pred_logreg))\n"
   ]
  },
  {
   "cell_type": "markdown",
   "id": "edc875a5",
   "metadata": {},
   "source": [
    "***ii. Support Vector Machine (SVM)***"
   ]
  },
  {
   "cell_type": "code",
   "execution_count": 31,
   "id": "03b88dab-07d7-42cc-8607-13d17f64e4cd",
   "metadata": {},
   "outputs": [
    {
     "name": "stdout",
     "output_type": "stream",
     "text": [
      "\n",
      "Support Vector Machine (SVM):\n",
      "              precision    recall  f1-score   support\n",
      "\n",
      "           0       0.47      1.00      0.64       128\n",
      "           1       0.00      0.00      0.00       143\n",
      "\n",
      "    accuracy                           0.47       271\n",
      "   macro avg       0.24      0.50      0.32       271\n",
      "weighted avg       0.22      0.47      0.30       271\n",
      "\n",
      "Accuracy: 0.47232472324723246\n"
     ]
    },
    {
     "name": "stderr",
     "output_type": "stream",
     "text": [
      "c:\\Users\\risha\\AppData\\Local\\Programs\\Python\\Python312\\Lib\\site-packages\\sklearn\\metrics\\_classification.py:1517: UndefinedMetricWarning: Precision is ill-defined and being set to 0.0 in labels with no predicted samples. Use `zero_division` parameter to control this behavior.\n",
      "  _warn_prf(average, modifier, f\"{metric.capitalize()} is\", len(result))\n",
      "c:\\Users\\risha\\AppData\\Local\\Programs\\Python\\Python312\\Lib\\site-packages\\sklearn\\metrics\\_classification.py:1517: UndefinedMetricWarning: Precision is ill-defined and being set to 0.0 in labels with no predicted samples. Use `zero_division` parameter to control this behavior.\n",
      "  _warn_prf(average, modifier, f\"{metric.capitalize()} is\", len(result))\n",
      "c:\\Users\\risha\\AppData\\Local\\Programs\\Python\\Python312\\Lib\\site-packages\\sklearn\\metrics\\_classification.py:1517: UndefinedMetricWarning: Precision is ill-defined and being set to 0.0 in labels with no predicted samples. Use `zero_division` parameter to control this behavior.\n",
      "  _warn_prf(average, modifier, f\"{metric.capitalize()} is\", len(result))\n"
     ]
    }
   ],
   "source": [
    "# Train SVM model\n",
    "from sklearn.svm import SVC\n",
    "svm = SVC(kernel='linear', probability=True, random_state=42)\n",
    "svm.fit(X_train, y_train)\n",
    "y_pred_svm = svm.predict(X_test)\n",
    "y_pred_svm = label_encoder.inverse_transform(y_pred_svm)\n",
    "y_pred_svm = np.where(y_pred_svm == 'increase', 1, 0)\n",
    "\n",
    "print(\"\\nSupport Vector Machine (SVM):\")\n",
    "print(classification_report(y_test_binary, y_pred_svm))\n",
    "print(\"Accuracy:\", accuracy_score(y_test_binary, y_pred_svm))"
   ]
  },
  {
   "cell_type": "markdown",
   "id": "a3107b3b",
   "metadata": {},
   "source": [
    "***iii. RandomForestClassifier***"
   ]
  },
  {
   "cell_type": "code",
   "execution_count": 32,
   "id": "e1ebc85a-c47a-4e71-96d3-5929aa39c110",
   "metadata": {},
   "outputs": [
    {
     "name": "stdout",
     "output_type": "stream",
     "text": [
      "\n",
      "Random Forest:\n",
      "              precision    recall  f1-score   support\n",
      "\n",
      "           0       0.49      0.86      0.62       128\n",
      "           1       0.62      0.20      0.31       143\n",
      "\n",
      "    accuracy                           0.51       271\n",
      "   macro avg       0.55      0.53      0.47       271\n",
      "weighted avg       0.56      0.51      0.46       271\n",
      "\n",
      "Accuracy: 0.5129151291512916\n"
     ]
    }
   ],
   "source": [
    "from sklearn.ensemble import RandomForestClassifier\n",
    "# Train Random Forest model\n",
    "rf = RandomForestClassifier(n_estimators=100, random_state=42)\n",
    "rf.fit(X_train, y_train)\n",
    "y_pred_rf = rf.predict(X_test)\n",
    "y_pred_rf = label_encoder.inverse_transform(y_pred_rf)\n",
    "y_pred_rf = np.where(y_pred_rf == 'increase', 1, 0)\n",
    "\n",
    "print(\"\\nRandom Forest:\")\n",
    "print(classification_report(y_test_binary, y_pred_rf))\n",
    "print(\"Accuracy:\", accuracy_score(y_test_binary, y_pred_rf))"
   ]
  },
  {
   "cell_type": "markdown",
   "id": "9be23d59",
   "metadata": {},
   "source": [
    "# **Model Evaluation**"
   ]
  },
  {
   "cell_type": "code",
   "execution_count": 33,
   "id": "a6f2d7d1-d3c2-44d5-8825-d444d3efcc5e",
   "metadata": {},
   "outputs": [],
   "source": [
    "# Evaluate models\n",
    "def evaluate_model(y_true, y_pred, model_name):\n",
    "    print(f\"Model: {model_name}\")\n",
    "    print(classification_report(y_true, y_pred))\n",
    "    print(\"Accuracy:\", accuracy_score(y_true, y_pred))\n",
    "    print(\"Confusion Matrix:\")\n",
    "    print(confusion_matrix(y_true, y_pred))\n",
    "    print()"
   ]
  },
  {
   "cell_type": "code",
   "execution_count": 34,
   "id": "704fa0ad-68fa-4499-8a93-95019303176b",
   "metadata": {},
   "outputs": [
    {
     "name": "stdout",
     "output_type": "stream",
     "text": [
      "Model: Logistic Regression\n",
      "              precision    recall  f1-score   support\n",
      "\n",
      "           0       0.48      0.87      0.62       128\n",
      "           1       0.60      0.17      0.27       143\n",
      "\n",
      "    accuracy                           0.50       271\n",
      "   macro avg       0.54      0.52      0.45       271\n",
      "weighted avg       0.54      0.50      0.44       271\n",
      "\n",
      "Accuracy: 0.5018450184501845\n",
      "Confusion Matrix:\n",
      "[[111  17]\n",
      " [118  25]]\n",
      "\n"
     ]
    }
   ],
   "source": [
    "# Evaluate Logistic Regression\n",
    "evaluate_model(y_test_binary, y_pred_logreg, \"Logistic Regression\")"
   ]
  },
  {
   "cell_type": "code",
   "execution_count": 35,
   "id": "311da9b9-0875-4e84-8285-17e247bb4aed",
   "metadata": {},
   "outputs": [
    {
     "name": "stdout",
     "output_type": "stream",
     "text": [
      "Model: Support Vector Machine (SVM)\n",
      "              precision    recall  f1-score   support\n",
      "\n",
      "           0       0.47      1.00      0.64       128\n",
      "           1       0.00      0.00      0.00       143\n",
      "\n",
      "    accuracy                           0.47       271\n",
      "   macro avg       0.24      0.50      0.32       271\n",
      "weighted avg       0.22      0.47      0.30       271\n",
      "\n",
      "Accuracy: 0.47232472324723246\n",
      "Confusion Matrix:\n",
      "[[128   0]\n",
      " [143   0]]\n",
      "\n"
     ]
    },
    {
     "name": "stderr",
     "output_type": "stream",
     "text": [
      "c:\\Users\\risha\\AppData\\Local\\Programs\\Python\\Python312\\Lib\\site-packages\\sklearn\\metrics\\_classification.py:1517: UndefinedMetricWarning: Precision is ill-defined and being set to 0.0 in labels with no predicted samples. Use `zero_division` parameter to control this behavior.\n",
      "  _warn_prf(average, modifier, f\"{metric.capitalize()} is\", len(result))\n",
      "c:\\Users\\risha\\AppData\\Local\\Programs\\Python\\Python312\\Lib\\site-packages\\sklearn\\metrics\\_classification.py:1517: UndefinedMetricWarning: Precision is ill-defined and being set to 0.0 in labels with no predicted samples. Use `zero_division` parameter to control this behavior.\n",
      "  _warn_prf(average, modifier, f\"{metric.capitalize()} is\", len(result))\n",
      "c:\\Users\\risha\\AppData\\Local\\Programs\\Python\\Python312\\Lib\\site-packages\\sklearn\\metrics\\_classification.py:1517: UndefinedMetricWarning: Precision is ill-defined and being set to 0.0 in labels with no predicted samples. Use `zero_division` parameter to control this behavior.\n",
      "  _warn_prf(average, modifier, f\"{metric.capitalize()} is\", len(result))\n"
     ]
    }
   ],
   "source": [
    "# Evaluate SVM\n",
    "evaluate_model(y_test_binary, y_pred_svm, \"Support Vector Machine (SVM)\")"
   ]
  },
  {
   "cell_type": "code",
   "execution_count": 36,
   "id": "69bfb5b9-3e4c-48fe-8981-6697ada97b09",
   "metadata": {},
   "outputs": [
    {
     "name": "stdout",
     "output_type": "stream",
     "text": [
      "Model: Random Forest\n",
      "              precision    recall  f1-score   support\n",
      "\n",
      "           0       0.49      0.86      0.62       128\n",
      "           1       0.62      0.20      0.31       143\n",
      "\n",
      "    accuracy                           0.51       271\n",
      "   macro avg       0.55      0.53      0.47       271\n",
      "weighted avg       0.56      0.51      0.46       271\n",
      "\n",
      "Accuracy: 0.5129151291512916\n",
      "Confusion Matrix:\n",
      "[[110  18]\n",
      " [114  29]]\n",
      "\n"
     ]
    }
   ],
   "source": [
    "# Evaluate Random Forest\n",
    "evaluate_model(y_test_binary, y_pred_rf, \"Random Forest\")"
   ]
  },
  {
   "cell_type": "markdown",
   "id": "68b8f4a8",
   "metadata": {},
   "source": [
    "# **ROC-AUC Curve**"
   ]
  },
  {
   "cell_type": "code",
   "execution_count": 37,
   "id": "ec8c4ab9-5a08-4c4d-bac2-603c70f854ec",
   "metadata": {},
   "outputs": [],
   "source": [
    "# ROC-AUC Curve (assuming binary classification)\n",
    "def plot_roc_curve(y_true, y_pred_proba, model_name):\n",
    "    fpr, tpr, thresholds = roc_curve(y_true, y_pred_proba[:, 1])\n",
    "    roc_auc = auc(fpr, tpr)\n",
    "\n",
    "    plt.figure()\n",
    "    plt.plot(fpr, tpr, color='darkorange', lw=2, label=f'ROC curve (area = {roc_auc:.2f})')\n",
    "    plt.plot([0, 1], [0, 1], color='navy', lw=2, linestyle='--')\n",
    "    plt.xlabel('False Positive Rate')\n",
    "    plt.ylabel('True Positive Rate')\n",
    "    plt.title(f'ROC Curve - {model_name}')\n",
    "    plt.legend(loc=\"lower right\")\n",
    "    plt.show()"
   ]
  },
  {
   "cell_type": "markdown",
   "id": "2329eee4",
   "metadata": {},
   "source": [
    "***i. Logistic Regression***"
   ]
  },
  {
   "cell_type": "code",
   "execution_count": 38,
   "id": "b4fb744b-aa54-48a1-97f9-460253509740",
   "metadata": {},
   "outputs": [
    {
     "data": {
      "image/png": "[encoded data removed]",
      "text/plain": [
       "<Figure size 640x480 with 1 Axes>"
      ]
     },
     "metadata": {},
     "output_type": "display_data"
    }
   ],
   "source": [
    "# Get probabilities for Logistic Regression (required for ROC curve)\n",
    "y_pred_proba_logreg = logreg.predict_proba(X_test)\n",
    "# Plot ROC curve for Logistic Regression\n",
    "plot_roc_curve(y_test_binary, y_pred_proba_logreg, \"Logistic Regression\")"
   ]
  },
  {
   "cell_type": "markdown",
   "id": "9e030b13",
   "metadata": {},
   "source": [
    "***ii. SVM***"
   ]
  },
  {
   "cell_type": "code",
   "execution_count": 39,
   "id": "de7627be-ff1f-4a64-beb4-7c800e3a7049",
   "metadata": {},
   "outputs": [],
   "source": [
    "# Get probabilities for SVM (required for ROC curve)\n",
    "y_pred_proba_svm = svm.predict_proba(X_test)"
   ]
  },
  {
   "cell_type": "code",
   "execution_count": 40,
   "id": "57a9e2a7-51ed-41e7-a5df-ee5b48462551",
   "metadata": {},
   "outputs": [
    {
     "data": {
      "image/png": "[encoded data removed]",
      "text/plain": [
       "<Figure size 640x480 with 1 Axes>"
      ]
     },
     "metadata": {},
     "output_type": "display_data"
    }
   ],
   "source": [
    "# Plot ROC curve for SVM\n",
    "plot_roc_curve(y_test_binary, y_pred_proba_svm, \"Support Vector Machine (SVM)\")"
   ]
  },
  {
   "cell_type": "markdown",
   "id": "7230dc94",
   "metadata": {},
   "source": [
    "***iii. Random Forest***"
   ]
  },
  {
   "cell_type": "code",
   "execution_count": 41,
   "id": "f21ad380-e030-4c90-ac85-804f5c870de0",
   "metadata": {},
   "outputs": [
    {
     "data": {
      "image/png": "[encoded data removed]",
      "text/plain": [
       "<Figure size 640x480 with 1 Axes>"
      ]
     },
     "metadata": {},
     "output_type": "display_data"
    }
   ],
   "source": [
    "# Get probabilities for Random Forest (required for ROC curve)\n",
    "y_pred_proba_rf = rf.predict_proba(X_test)\n",
    "# Plot ROC curve for Random Forest\n",
    "plot_roc_curve(y_test_binary, y_pred_proba_rf, \"Random Forest\")"
   ]
  },
  {
   "cell_type": "markdown",
   "id": "0d2a5765",
   "metadata": {},
   "source": [
    "# **Prection of price movement using Neural Networks**"
   ]
  },
  {
   "cell_type": "code",
   "execution_count": 42,
   "id": "f2e1a6cc-e9dc-4836-bda7-157d12d45ea5",
   "metadata": {},
   "outputs": [],
   "source": [
    "import pandas as pd\n",
    "from sklearn.model_selection import train_test_split\n",
    "from sklearn.feature_extraction.text import TfidfVectorizer\n",
    "from sklearn.preprocessing import LabelEncoder\n",
    "\n",
    "# Select relevant features and target\n",
    "X_text = data['cleaned_text']  # Cleaned text features\n",
    "X_numeric = data.drop(['price_movement', 'cleaned_text'], axis=1)  # Numeric features\n",
    "y = data['encoded_movement']  # Encoded target variable\n",
    "\n",
    "# Split data into train and test sets\n",
    "X_text_train, X_text_test, X_numeric_train, X_numeric_test, y_train, y_test = train_test_split(\n",
    "    X_text, X_numeric, y, test_size=0.2, random_state=42\n",
    ")\n",
    "\n",
    "# Initialize TF-IDF vectorizer\n",
    "tfidf_vectorizer = TfidfVectorizer(max_features=1000)  # You can adjust max_features as needed\n",
    "X_train_tfidf = tfidf_vectorizer.fit_transform(X_text_train).toarray()\n",
    "X_test_tfidf = tfidf_vectorizer.transform(X_text_test).toarray()\n"
   ]
  },
  {
   "cell_type": "code",
   "execution_count": 43,
   "id": "da7b95e4-90b2-4e88-a7b5-63f9f1eeb77b",
   "metadata": {},
   "outputs": [
    {
     "name": "stderr",
     "output_type": "stream",
     "text": [
      "c:\\Users\\risha\\AppData\\Local\\Programs\\Python\\Python312\\Lib\\site-packages\\keras\\src\\layers\\core\\dense.py:87: UserWarning: Do not pass an `input_shape`/`input_dim` argument to a layer. When using Sequential models, prefer using an `Input(shape)` object as the first layer in the model instead.\n",
      "  super().__init__(activity_regularizer=activity_regularizer, **kwargs)\n"
     ]
    }
   ],
   "source": [
    "import tensorflow as tf\n",
    "from tensorflow.keras.layers import Input, Dense, Concatenate, Dropout\n",
    "from tensorflow.keras.models import Model\n",
    "from tensorflow.keras.optimizers import Adam\n",
    "from tensorflow.keras.models import Sequential\n",
    "\n",
    "# Define neural network architecture\n",
    "model = Sequential([\n",
    "    Dense(128, activation='relu', input_dim=X_train_tfidf.shape[1]),\n",
    "    Dropout(0.5),\n",
    "    Dense(64, activation='relu'),\n",
    "    Dense(1, activation='sigmoid')\n",
    "])\n",
    "\n",
    "# Compile the model\n",
    "model.compile(optimizer='adam',\n",
    "              loss='binary_crossentropy',\n",
    "              metrics=['accuracy'])\n",
    "\n"
   ]
  },
  {
   "cell_type": "code",
   "execution_count": 44,
   "id": "acd3364d-48c6-4278-895d-78825b911908",
   "metadata": {},
   "outputs": [
    {
     "name": "stdout",
     "output_type": "stream",
     "text": [
      "Epoch 1/10\n",
      "\u001b[1m34/34\u001b[0m \u001b[32m━━━━━━━━━━━━━━━━━━━━\u001b[0m\u001b[37m\u001b[0m \u001b[1m2s\u001b[0m 9ms/step - accuracy: 0.5047 - loss: 0.6942 - val_accuracy: 0.5092 - val_loss: 0.6936\n",
      "Epoch 2/10\n",
      "\u001b[1m34/34\u001b[0m \u001b[32m━━━━━━━━━━━━━━━━━━━━\u001b[0m\u001b[37m\u001b[0m \u001b[1m0s\u001b[0m 3ms/step - accuracy: 0.5665 - loss: 0.6863 - val_accuracy: 0.4649 - val_loss: 0.6943\n",
      "Epoch 3/10\n",
      "\u001b[1m34/34\u001b[0m \u001b[32m━━━━━━━━━━━━━━━━━━━━\u001b[0m\u001b[37m\u001b[0m \u001b[1m0s\u001b[0m 3ms/step - accuracy: 0.6237 - loss: 0.6684 - val_accuracy: 0.5277 - val_loss: 0.6899\n",
      "Epoch 4/10\n",
      "\u001b[1m34/34\u001b[0m \u001b[32m━━━━━━━━━━━━━━━━━━━━\u001b[0m\u001b[37m\u001b[0m \u001b[1m0s\u001b[0m 3ms/step - accuracy: 0.7635 - loss: 0.6191 - val_accuracy: 0.5535 - val_loss: 0.6926\n",
      "Epoch 5/10\n",
      "\u001b[1m34/34\u001b[0m \u001b[32m━━━━━━━━━━━━━━━━━━━━\u001b[0m\u001b[37m\u001b[0m \u001b[1m0s\u001b[0m 4ms/step - accuracy: 0.8398 - loss: 0.4953 - val_accuracy: 0.5387 - val_loss: 0.7543\n",
      "Epoch 6/10\n",
      "\u001b[1m34/34\u001b[0m \u001b[32m━━━━━━━━━━━━━━━━━━━━\u001b[0m\u001b[37m\u001b[0m \u001b[1m0s\u001b[0m 3ms/step - accuracy: 0.8751 - loss: 0.3735 - val_accuracy: 0.5498 - val_loss: 0.8239\n",
      "Epoch 7/10\n",
      "\u001b[1m34/34\u001b[0m \u001b[32m━━━━━━━━━━━━━━━━━━━━\u001b[0m\u001b[37m\u001b[0m \u001b[1m0s\u001b[0m 3ms/step - accuracy: 0.9213 - loss: 0.2685 - val_accuracy: 0.5166 - val_loss: 0.9534\n",
      "Epoch 8/10\n",
      "\u001b[1m34/34\u001b[0m \u001b[32m━━━━━━━━━━━━━━━━━━━━\u001b[0m\u001b[37m\u001b[0m \u001b[1m0s\u001b[0m 3ms/step - accuracy: 0.9296 - loss: 0.2040 - val_accuracy: 0.5277 - val_loss: 1.0566\n",
      "Epoch 9/10\n",
      "\u001b[1m34/34\u001b[0m \u001b[32m━━━━━━━━━━━━━━━━━━━━\u001b[0m\u001b[37m\u001b[0m \u001b[1m0s\u001b[0m 3ms/step - accuracy: 0.9605 - loss: 0.1400 - val_accuracy: 0.5314 - val_loss: 1.1409\n",
      "Epoch 10/10\n",
      "\u001b[1m34/34\u001b[0m \u001b[32m━━━━━━━━━━━━━━━━━━━━\u001b[0m\u001b[37m\u001b[0m \u001b[1m0s\u001b[0m 3ms/step - accuracy: 0.9814 - loss: 0.1004 - val_accuracy: 0.5277 - val_loss: 1.2438\n",
      "\u001b[1m9/9\u001b[0m \u001b[32m━━━━━━━━━━━━━━━━━━━━\u001b[0m\u001b[37m\u001b[0m \u001b[1m0s\u001b[0m 6ms/step \n",
      "Classification Report:\n",
      "              precision    recall  f1-score   support\n",
      "\n",
      "           0       0.50      0.61      0.55       128\n",
      "           1       0.57      0.45      0.50       143\n",
      "\n",
      "    accuracy                           0.53       271\n",
      "   macro avg       0.53      0.53      0.53       271\n",
      "weighted avg       0.53      0.53      0.53       271\n",
      "\n",
      "Accuracy: 0.5276752767527675\n",
      "Confusion Matrix:\n",
      "[[78 50]\n",
      " [78 65]]\n"
     ]
    }
   ],
   "source": [
    "# Train the model\n",
    "model.fit(X_train_tfidf, y_train, epochs=10, batch_size=32, validation_data=(X_test_tfidf, y_test))\n",
    "\n",
    "# Evaluate the model\n",
    "y_pred = model.predict(X_test_tfidf)\n",
    "y_pred_binary = (y_pred > 0.5).astype(int)  # Convert probabilities to binary predictions\n",
    "\n",
    "print(\"Classification Report:\")\n",
    "print(classification_report(y_test, y_pred_binary))\n",
    "\n",
    "print(\"Accuracy:\", accuracy_score(y_test, y_pred_binary))\n",
    "\n",
    "print(\"Confusion Matrix:\")\n",
    "print(confusion_matrix(y_test, y_pred_binary))"
   ]
  },
  {
   "cell_type": "markdown",
   "id": "3b02168f",
   "metadata": {},
   "source": [
    "***Neural Network Model Accuracy and Loss Curves***"
   ]
  },
  {
   "cell_type": "code",
   "execution_count": 45,
   "id": "47203f81-5878-4bb1-a485-4a0b1f001c93",
   "metadata": {},
   "outputs": [
    {
     "name": "stdout",
     "output_type": "stream",
     "text": [
      "Epoch 1/10\n",
      "\u001b[1m34/34\u001b[0m \u001b[32m━━━━━━━━━━━━━━━━━━━━\u001b[0m\u001b[37m\u001b[0m \u001b[1m0s\u001b[0m 6ms/step - accuracy: 0.9775 - loss: 0.0894 - val_accuracy: 0.5387 - val_loss: 1.3148\n",
      "Epoch 2/10\n",
      "\u001b[1m34/34\u001b[0m \u001b[32m━━━━━━━━━━━━━━━━━━━━\u001b[0m\u001b[37m\u001b[0m \u001b[1m0s\u001b[0m 4ms/step - accuracy: 0.9814 - loss: 0.0697 - val_accuracy: 0.5092 - val_loss: 1.4183\n",
      "Epoch 3/10\n",
      "\u001b[1m34/34\u001b[0m \u001b[32m━━━━━━━━━━━━━━━━━━━━\u001b[0m\u001b[37m\u001b[0m \u001b[1m0s\u001b[0m 3ms/step - accuracy: 0.9890 - loss: 0.0496 - val_accuracy: 0.5351 - val_loss: 1.4841\n",
      "Epoch 4/10\n",
      "\u001b[1m34/34\u001b[0m \u001b[32m━━━━━━━━━━━━━━━━━━━━\u001b[0m\u001b[37m\u001b[0m \u001b[1m0s\u001b[0m 3ms/step - accuracy: 0.9826 - loss: 0.0459 - val_accuracy: 0.5351 - val_loss: 1.5812\n",
      "Epoch 5/10\n",
      "\u001b[1m34/34\u001b[0m \u001b[32m━━━━━━━━━━━━━━━━━━━━\u001b[0m\u001b[37m\u001b[0m \u001b[1m0s\u001b[0m 4ms/step - accuracy: 0.9909 - loss: 0.0386 - val_accuracy: 0.5129 - val_loss: 1.6962\n",
      "Epoch 6/10\n",
      "\u001b[1m34/34\u001b[0m \u001b[32m━━━━━━━━━━━━━━━━━━━━\u001b[0m\u001b[37m\u001b[0m \u001b[1m0s\u001b[0m 3ms/step - accuracy: 0.9856 - loss: 0.0344 - val_accuracy: 0.5498 - val_loss: 1.7468\n",
      "Epoch 7/10\n",
      "\u001b[1m34/34\u001b[0m \u001b[32m━━━━━━━━━━━━━━━━━━━━\u001b[0m\u001b[37m\u001b[0m \u001b[1m0s\u001b[0m 3ms/step - accuracy: 0.9928 - loss: 0.0229 - val_accuracy: 0.5277 - val_loss: 1.7595\n",
      "Epoch 8/10\n",
      "\u001b[1m34/34\u001b[0m \u001b[32m━━━━━━━━━━━━━━━━━━━━\u001b[0m\u001b[37m\u001b[0m \u001b[1m0s\u001b[0m 3ms/step - accuracy: 0.9944 - loss: 0.0248 - val_accuracy: 0.5387 - val_loss: 1.8485\n",
      "Epoch 9/10\n",
      "\u001b[1m34/34\u001b[0m \u001b[32m━━━━━━━━━━━━━━━━━━━━\u001b[0m\u001b[37m\u001b[0m \u001b[1m0s\u001b[0m 5ms/step - accuracy: 0.9981 - loss: 0.0215 - val_accuracy: 0.5424 - val_loss: 1.8692\n",
      "Epoch 10/10\n",
      "\u001b[1m34/34\u001b[0m \u001b[32m━━━━━━━━━━━━━━━━━━━━\u001b[0m\u001b[37m\u001b[0m \u001b[1m0s\u001b[0m 3ms/step - accuracy: 0.9958 - loss: 0.0195 - val_accuracy: 0.5351 - val_loss: 1.9493\n"
     ]
    },
    {
     "data": {
      "image/png": "[encoded data removed]",
      "text/plain": [
       "<Figure size 640x480 with 1 Axes>"
      ]
     },
     "metadata": {},
     "output_type": "display_data"
    },
    {
     "data": {
      "image/png": "[encoded data removed]",
      "text/plain": [
       "<Figure size 640x480 with 1 Axes>"
      ]
     },
     "metadata": {},
     "output_type": "display_data"
    }
   ],
   "source": [
    "import matplotlib.pyplot as plt\n",
    "\n",
    "# Train the model and capture the history\n",
    "history = model.fit(X_train_tfidf, y_train, epochs=10, batch_size=32, validation_data=(X_test_tfidf, y_test))\n",
    "\n",
    "# Plot training history\n",
    "def plot_history(history):\n",
    "    # Plot training & validation accuracy values\n",
    "    plt.plot(history.history['accuracy'])\n",
    "    plt.plot(history.history['val_accuracy'])\n",
    "    plt.title('Model accuracy')\n",
    "    plt.xlabel('Epoch')\n",
    "    plt.ylabel('Accuracy')\n",
    "    plt.legend(['Train', 'Test'], loc='upper left')\n",
    "    plt.show()\n",
    "\n",
    "    # Plot training & validation loss values\n",
    "    plt.plot(history.history['loss'])\n",
    "    plt.plot(history.history['val_loss'])\n",
    "    plt.title('Model loss')\n",
    "    plt.xlabel('Epoch')\n",
    "    plt.ylabel('Loss')\n",
    "    plt.legend(['Train', 'Test'], loc='upper left')\n",
    "    plt.show()\n",
    "\n",
    "# Plot the training history\n",
    "plot_history(history)\n"
   ]
  },
  {
   "cell_type": "markdown",
   "id": "38673053",
   "metadata": {},
   "source": [
    "# **Finding Buying and Selling Points of Reliance Stocks and total return on the basis of sentiment we calculated**"
   ]
  },
  {
   "cell_type": "code",
   "execution_count": 47,
   "id": "bad75f4c-99d1-478a-b88d-bc6799998a9a",
   "metadata": {},
   "outputs": [],
   "source": [
    "def aggregate_sentiment_scores(headlines_df):\n",
    "    sentiment_summary = headlines_df.groupby('Date')['sentiment'].mean()\n",
    "    return sentiment_summary\n",
    "\n",
    "def generate_trading_signals(sentiment_summary):\n",
    "    signals = sentiment_summary.apply(lambda x: 1 if x > 0.2 else (-1 if x < -0.2 else 0))\n",
    "    return signals"
   ]
  },
  {
   "cell_type": "code",
   "execution_count": 48,
   "id": "318ccf69-17f9-4835-ae3a-6a3dab13d821",
   "metadata": {},
   "outputs": [],
   "source": [
    "def calculate_portfolio_metrics(portfolio):\n",
    "    total_trades = len(portfolio) // 2\n",
    "    wins = portfolio[portfolio['type'] == 'sell']['profit'] > 0\n",
    "    win_percentage = wins.mean() * 100\n",
    "    total_profit = portfolio[portfolio['type'] == 'sell']['profit'].sum()\n",
    "    \n",
    "    return total_trades, win_percentage, total_profit\n",
    "\n",
    "def calculate_sharpe_ratio(portfolio, risk_free_rate=0.01):\n",
    "    daily_returns = portfolio[portfolio['type'] == 'sell']['profit']\n",
    "    excess_returns = daily_returns - risk_free_rate\n",
    "    sharpe_ratio = excess_returns.mean() / excess_returns.std()\n",
    "    return sharpe_ratio\n",
    "\n",
    "def calculate_max_drawdown(portfolio):\n",
    "    portfolio['cumulative_profit'] = portfolio['profit'].cumsum()\n",
    "    cumulative_max = portfolio['cumulative_profit'].cummax()\n",
    "    drawdown = portfolio['cumulative_profit'] - cumulative_max\n",
    "    max_drawdown = drawdown.min()\n",
    "    return max_drawdown"
   ]
  },
  {
   "cell_type": "code",
   "execution_count": 50,
   "id": "81fc1c37-307f-40c9-82b6-39131aa5b419",
   "metadata": {},
   "outputs": [],
   "source": [
    "import plotly.graph_objects as go\n",
    "\n",
    "def plot_signals(stock_data, portfolio):\n",
    "    start_date = portfolio['date'].min()\n",
    "    end_date = portfolio['date'].max()\n",
    "\n",
    "    # Filter stock data to the date range available in the portfolio\n",
    "    stock_data = stock_data[(stock_data['Date'] >= start_date) & (stock_data['Date'] <= end_date)]\n",
    "    \n",
    "    buy_signals = portfolio[portfolio['type'] == 'buy']\n",
    "    sell_signals = portfolio[portfolio['type'] == 'sell']\n",
    "    fig = go.Figure()\n",
    "    # Add stock price trace\n",
    "    fig.add_trace(go.Scatter(\n",
    "        x=stock_data['Date'], \n",
    "        y=stock_data['Close'],\n",
    "        mode='lines',\n",
    "        name='Stock Price',\n",
    "        line=dict(color='blue')\n",
    "    ))\n",
    "\n",
    "    # Add buy signals\n",
    "    fig.add_trace(go.Scatter(\n",
    "        x=buy_signals['date'], \n",
    "        y=buy_signals['price'],\n",
    "        mode='markers',\n",
    "        name='Buy Signal',\n",
    "        marker=dict(symbol='triangle-up', color='green', size=10)\n",
    "    ))\n",
    "\n",
    "    # Add sell signals\n",
    "    fig.add_trace(go.Scatter(\n",
    "        x=sell_signals['date'], \n",
    "        y=sell_signals['price'],\n",
    "        mode='markers',\n",
    "        name='Sell Signal',\n",
    "        marker=dict(symbol='triangle-down', color='red', size=10)\n",
    "    ))\n",
    "    # Update layout for better presentation\n",
    "    fig.update_layout(\n",
    "        title=f'Stock Price with Buy and Sell Signals for Reliance Industries',\n",
    "        xaxis_title='Date',\n",
    "        yaxis_title='Price',\n",
    "        legend_title='Legend',\n",
    "        hovermode='x'\n",
    "    )\n",
    "    fig.show()"
   ]
  },
  {
   "cell_type": "code",
   "execution_count": 51,
   "id": "2def9ccf-bf5c-44d0-bbf6-ec8587daeb2f",
   "metadata": {},
   "outputs": [],
   "source": [
    "def simulate_trades(stock_data, trading_signals,capital):\n",
    "    data = pd.read_csv('merged_data.csv')\n",
    "    date = data['Date']\n",
    "    portfolio = []\n",
    "    position = 0\n",
    "    buy_price = 0\n",
    "    quantity =0\n",
    "    for index, price in (stock_data['Close'].items()):\n",
    "        if date[index] in trading_signals.index:\n",
    "            signal = trading_signals.loc[date[index]]\n",
    "            if signal == 1 and position == 0:  # Buy signal\n",
    "                position = 1\n",
    "                buy_price = price\n",
    "                quantity = capital/price\n",
    "                capital = capital%price\n",
    "                portfolio.append({'date': date[index], 'type': \"buy\", 'price': buy_price, 'capital':capital})\n",
    "            elif signal == -1 and position == 1 and (price>buy_price) :  # Sell signal\n",
    "                position = 0\n",
    "                sell_price = price\n",
    "                profit = (sell_price - buy_price)*quantity\n",
    "                capital = capital+ quantity*sell_price\n",
    "                portfolio.append({'date': date[index], 'type': \"sell\", 'price': sell_price,'capital':capital, 'profit': profit})\n",
    "\n",
    "    return pd.DataFrame(portfolio)\n"
   ]
  },
  {
   "cell_type": "code",
   "execution_count": 52,
   "id": "c44079ff-9101-40d9-a0ba-fcef62e95606",
   "metadata": {},
   "outputs": [],
   "source": [
    "def final(rate, intial):\n",
    "\n",
    "    # Fetch news data\n",
    "    news_data = pd.read_csv('merged_data.csv')\n",
    "    # Calculate sentiment scores\n",
    "    news_data_with_scores = news_data[['Date','sentiment']]\n",
    "    # Aggregate sentiment scores by date\n",
    "    sentiment_summary = aggregate_sentiment_scores(news_data_with_scores)\n",
    "    # Generate trading signals\n",
    "    trading_signals = generate_trading_signals(sentiment_summary)\n",
    "    # Simulate trades\n",
    "    print(\"\\nSimulating trades...\")\n",
    "    portfolio = simulate_trades(news_data, trading_signals, intial)\n",
    "    # Calculate portfolio metrics\n",
    "    total_trades, win_percentage, total_profit = calculate_portfolio_metrics(portfolio)\n",
    "    # Print the portfolio\n",
    "    print(portfolio)\n",
    "    print(f\"\\nInitial capital: ${intial}\")\n",
    "    print(f\"Total Trades: {total_trades}\")\n",
    "    print(f\"Win Percentage: {win_percentage:.2f}%\")\n",
    "    print(f\"Total Portfolio Returns: ${total_profit:.2f}\")\n",
    "    print(f\"Sharpe ratio:{calculate_sharpe_ratio(portfolio, rate):.2f} with risk free rate of {rate}\")\n",
    "    print(f\"Max drawdown: {calculate_max_drawdown(portfolio)}\")\n",
    "    # Plot buy and sell signals\n",
    "    plot_signals(news_data, portfolio)"
   ]
  },
  {
   "cell_type": "code",
   "execution_count": 54,
   "id": "68dd8076-9745-497b-8468-0771c80a284b",
   "metadata": {},
   "outputs": [
    {
     "name": "stdout",
     "output_type": "stream",
     "text": [
      "\n",
      "Simulating trades...\n",
      "         date  type        price       capital       profit\n",
      "0  2021-01-14   buy  1809.633179    951.834106          NaN\n",
      "1  2021-06-15  sell  2076.749268  12427.912751  1476.078644\n",
      "2  2021-07-14   buy  1925.377319    875.648834          NaN\n",
      "3  2021-08-26  sell  2058.704590  14164.161566   860.599981\n",
      "4  2021-07-30   buy  1878.581299   1014.092475          NaN\n",
      "5  2021-08-03  sell  1926.992554  15543.266104   365.012063\n",
      "6  2021-08-13   buy  1980.434204   1680.226675          NaN\n",
      "7  2021-10-06  sell  2362.740723  20223.992336  3000.499557\n",
      "8  2021-10-22   buy  2425.089355    823.277492          NaN\n",
      "\n",
      "Initial capital: $10000\n",
      "Total Trades: 4\n",
      "Win Percentage: 100.00%\n",
      "Total Portfolio Returns: $5702.19\n",
      "Sharpe ratio:1.25 with risk free rate of 0.03\n",
      "Max drawdown: 0.0\n"
     ]
    },
    {
     "data": {
      "application/vnd.plotly.v1+json": {
       "config": {
        "plotlyServerURL": "https://plot.ly"
       },
       "data": [
        {
         "line": {
          "color": "blue"
         },
         "mode": "lines",
         "name": "Stock Price",
         "type": "scatter",
         "x": [
          "2021-01-21",
          "2021-01-21",
          "2021-01-25",
          "2021-01-25",
          "2021-01-29",
          "2021-01-21",
          "2021-01-29",
          "2021-01-25",
          "2021-01-22",
          "2021-01-14",
          "2021-01-15",
          "2021-01-19",
          "2021-01-15",
          "2021-01-15",
          "2021-01-29",
          "2021-01-25",
          "2021-01-27",
          "2021-01-19",
          "2021-01-29",
          "2021-01-21",
          "2021-01-29",
          "2021-02-22",
          "2021-02-23",
          "2021-02-04",
          "2021-02-24",
          "2021-03-01",
          "2021-02-23",
          "2021-02-11",
          "2021-02-10",
          "2021-02-18",
          "2021-02-12",
          "2021-02-16",
          "2021-03-02",
          "2021-02-23",
          "2021-02-09",
          "2021-02-10",
          "2021-02-08",
          "2021-02-25",
          "2021-02-04",
          "2021-02-25",
          "2021-02-12",
          "2021-02-23",
          "2021-02-11",
          "2021-02-09",
          "2021-02-03",
          "2021-02-18",
          "2021-02-02",
          "2021-02-04",
          "2021-02-15",
          "2021-02-09",
          "2021-02-23",
          "2021-02-04",
          "2021-02-05",
          "2021-02-12",
          "2021-02-26",
          "2021-02-08",
          "2021-02-08",
          "2021-02-10",
          "2021-02-03",
          "2021-02-15",
          "2021-03-01",
          "2021-03-26",
          "2021-03-17",
          "2021-03-25",
          "2021-03-30",
          "2021-03-22",
          "2021-03-02",
          "2021-03-03",
          "2021-04-01",
          "2021-03-18",
          "2021-03-26",
          "2021-03-12",
          "2021-03-22",
          "2021-03-12",
          "2021-03-31",
          "2021-03-19",
          "2021-03-10",
          "2021-03-10",
          "2021-03-03",
          "2021-03-23",
          "2021-03-24",
          "2021-03-12",
          "2021-03-10",
          "2021-03-09",
          "2021-03-04",
          "2021-03-09",
          "2021-04-01",
          "2021-03-31",
          "2021-03-17",
          "2021-03-17",
          "2021-04-01",
          "2021-03-19",
          "2021-03-10",
          "2021-04-01",
          "2021-03-23",
          "2021-03-03",
          "2021-03-15",
          "2021-03-12",
          "2021-04-07",
          "2021-04-08",
          "2021-04-30",
          "2021-04-08",
          "2021-04-30",
          "2021-04-27",
          "2021-04-29",
          "2021-04-22",
          "2021-04-20",
          "2021-04-30",
          "2021-04-23",
          "2021-04-23",
          "2021-04-05",
          "2021-04-30",
          "2021-04-22",
          "2021-04-09",
          "2021-04-09",
          "2021-04-15",
          "2021-04-16",
          "2021-04-12",
          "2021-04-19",
          "2021-04-08",
          "2021-04-01",
          "2021-04-30",
          "2021-04-07",
          "2021-04-07",
          "2021-04-28",
          "2021-04-01",
          "2021-04-05",
          "2021-04-01",
          "2021-04-12",
          "2021-04-09",
          "2021-04-12",
          "2021-04-29",
          "2021-04-01",
          "2021-04-12",
          "2021-04-13",
          "2021-04-12",
          "2021-05-03",
          "2021-05-27",
          "2021-05-03",
          "2021-05-18",
          "2021-05-25",
          "2021-05-28",
          "2021-05-17",
          "2021-05-03",
          "2021-05-03",
          "2021-05-06",
          "2021-05-28",
          "2021-05-03",
          "2021-05-11",
          "2021-05-04",
          "2021-05-05",
          "2021-05-17",
          "2021-05-31",
          "2021-05-27",
          "2021-05-14",
          "2021-05-12",
          "2021-05-21",
          "2021-05-20",
          "2021-05-12",
          "2021-05-03",
          "2021-05-04",
          "2021-05-31",
          "2021-05-12",
          "2021-05-18",
          "2021-05-25",
          "2021-05-10",
          "2021-05-14",
          "2021-06-11",
          "2021-06-14",
          "2021-06-24",
          "2021-06-14",
          "2021-06-01",
          "2021-06-03",
          "2021-06-21",
          "2021-06-14",
          "2021-06-24",
          "2021-06-14",
          "2021-06-24",
          "2021-06-29",
          "2021-06-30",
          "2021-06-25",
          "2021-06-14",
          "2021-06-24",
          "2021-06-24",
          "2021-06-07",
          "2021-06-24",
          "2021-06-14",
          "2021-06-10",
          "2021-06-14",
          "2021-06-24",
          "2021-06-21",
          "2021-06-25",
          "2021-06-16",
          "2021-06-24",
          "2021-06-21",
          "2021-06-21",
          "2021-06-11",
          "2021-06-22",
          "2021-06-14",
          "2021-06-24",
          "2021-06-01",
          "2021-06-24",
          "2021-06-25",
          "2021-06-25",
          "2021-06-07",
          "2021-06-25",
          "2021-06-22",
          "2021-06-14",
          "2021-06-25",
          "2021-06-28",
          "2021-06-15",
          "2021-07-05",
          "2021-07-14",
          "2021-07-28",
          "2021-06-30",
          "2021-07-12",
          "2021-07-30",
          "2021-06-30",
          "2021-07-16",
          "2021-07-06",
          "2021-07-19",
          "2021-07-23",
          "2021-07-15",
          "2021-07-15",
          "2021-07-05",
          "2021-07-16",
          "2021-07-13",
          "2021-07-02",
          "2021-07-26",
          "2021-07-13",
          "2021-07-12",
          "2021-07-01",
          "2021-07-29",
          "2021-07-02",
          "2021-07-01",
          "2021-07-16",
          "2021-07-22",
          "2021-07-22",
          "2021-07-27",
          "2021-07-20",
          "2021-07-14",
          "2021-07-08",
          "2021-07-09",
          "2021-08-06",
          "2021-08-10",
          "2021-08-06",
          "2021-08-20",
          "2021-08-06",
          "2021-08-26",
          "2021-08-16",
          "2021-08-09",
          "2021-08-05",
          "2021-08-16",
          "2021-08-09",
          "2021-07-30",
          "2021-08-10",
          "2021-08-24",
          "2021-08-05",
          "2021-08-24",
          "2021-08-10",
          "2021-08-05",
          "2021-08-05",
          "2021-08-20",
          "2021-08-03",
          "2021-08-16",
          "2021-08-04",
          "2021-08-04",
          "2021-08-17",
          "2021-08-06",
          "2021-08-13",
          "2021-08-02",
          "2021-08-20",
          "2021-08-18",
          "2021-08-04",
          "2021-08-13",
          "2021-08-16",
          "2021-08-10",
          "2021-08-03",
          "2021-08-17",
          "2021-07-30",
          "2021-08-02",
          "2021-08-06",
          "2021-08-18",
          "2021-08-18",
          "2021-09-13",
          "2021-08-30",
          "2021-09-03",
          "2021-09-08",
          "2021-09-02",
          "2021-09-03",
          "2021-09-13",
          "2021-09-23",
          "2021-09-03",
          "2021-09-14",
          "2021-09-16",
          "2021-09-02",
          "2021-09-28",
          "2021-09-03",
          "2021-09-14",
          "2021-09-06",
          "2021-09-03",
          "2021-09-14",
          "2021-09-06",
          "2021-09-23",
          "2021-09-03",
          "2021-09-02",
          "2021-09-13",
          "2021-09-16",
          "2021-09-06",
          "2021-09-20",
          "2021-09-17",
          "2021-08-31",
          "2021-09-06",
          "2021-09-09",
          "2021-09-14",
          "2021-09-16",
          "2021-09-09",
          "2021-10-11",
          "2021-10-06",
          "2021-10-08",
          "2021-10-06",
          "2021-10-22",
          "2021-10-07",
          "2021-10-14",
          "2021-10-11",
          "2021-10-12",
          "2021-10-05",
          "2021-10-13",
          "2021-10-06",
          "2021-10-13",
          "2021-09-28",
          "2021-10-13",
          "2021-10-19",
          "2021-10-07",
          "2021-10-07",
          "2021-10-11",
          "2021-10-11",
          "2021-10-07",
          "2021-10-04",
          "2021-09-28",
          "2021-10-20",
          "2021-10-14",
          "2021-10-18",
          "2021-10-14",
          "2021-09-29",
          "2021-10-05",
          "2021-10-07",
          "2021-10-13",
          "2021-10-07",
          "2021-09-28",
          "2021-10-11",
          "2021-10-11"
         ],
         "y": [
          1937.7454833984373,
          1937.7454833984373,
          1791.5423583984375,
          1791.5423583984375,
          1700.1192626953125,
          1937.7454833984373,
          1700.1192626953125,
          1791.5423583984375,
          1891.7801513671875,
          1809.6331787109373,
          1788.2657470703125,
          1861.1365966796875,
          1788.2657470703125,
          1788.2657470703125,
          1700.1192626953125,
          1791.5423583984375,
          1749.0843505859375,
          1861.1365966796875,
          1700.1192626953125,
          1937.7454833984373,
          1700.1192626953125,
          1853.4757080078125,
          1867.6436767578125,
          1776.1282958984375,
          1902.3023681640625,
          1939.868408203125,
          1867.6436767578125,
          1897.410400390625,
          1822.2781982421875,
          1908.4864501953125,
          1884.3961181640625,
          1900.9178466796875,
          1943.8372802734373,
          1867.6436767578125,
          1805.5257568359373,
          1822.2781982421875,
          1801.187744140625,
          1979.234375,
          1776.1282958984375,
          1979.234375,
          1884.3961181640625,
          1867.6436767578125,
          1897.410400390625,
          1805.5257568359373,
          1781.9893798828125,
          1908.4864501953125,
          1777.5128173828125,
          1776.1282958984375,
          1876.089111328125,
          1805.5257568359373,
          1867.6436767578125,
          1776.1282958984375,
          1775.62060546875,
          1884.3961181640625,
          1925.1927490234373,
          1801.187744140625,
          1801.187744140625,
          1822.2781982421875,
          1781.9893798828125,
          1876.089111328125,
          1939.868408203125,
          1841.061279296875,
          1897.08740234375,
          1838.107666015625,
          1873.043212890625,
          1903.594482421875,
          1943.8372802734373,
          2032.53759765625,
          1866.1668701171875,
          1854.398681640625,
          1841.061279296875,
          1973.004150390625,
          1903.594482421875,
          1973.004150390625,
          1848.860595703125,
          1921.685302734375,
          2013.9390869140625,
          2013.9390869140625,
          2032.53759765625,
          1926.7618408203125,
          1889.6572265625,
          1973.004150390625,
          2013.9390869140625,
          2022.33837890625,
          2008.308837890625,
          2022.33837890625,
          1866.1668701171875,
          1848.860595703125,
          1897.08740234375,
          1897.08740234375,
          1866.1668701171875,
          1921.685302734375,
          2013.9390869140625,
          1866.1668701171875,
          1926.7618408203125,
          2032.53759765625,
          1946.5140380859373,
          1973.004150390625,
          1848.6298828125,
          1850.9373779296875,
          1840.9228515625,
          1850.9373779296875,
          1840.9228515625,
          1835.5233154296875,
          1868.197509765625,
          1759.6065673828125,
          1754.7608642578125,
          1840.9228515625,
          1757.7144775390625,
          1757.7144775390625,
          1839.169189453125,
          1840.9228515625,
          1759.6065673828125,
          1829.4315185546875,
          1829.4315185546875,
          1794.5882568359375,
          1783.32763671875,
          1763.9908447265625,
          1755.2684326171875,
          1850.9373779296875,
          1866.1668701171875,
          1840.9228515625,
          1848.6298828125,
          1848.6298828125,
          1843.5072021484373,
          1866.1668701171875,
          1839.169189453125,
          1866.1668701171875,
          1763.9908447265625,
          1829.4315185546875,
          1763.9908447265625,
          1868.197509765625,
          1866.1668701171875,
          1763.9908447265625,
          1783.05078125,
          1763.9908447265625,
          1808.2025146484373,
          1823.939697265625,
          1808.2025146484373,
          1834.877197265625,
          1811.98681640625,
          1933.499755859375,
          1809.4024658203125,
          1808.2025146484373,
          1808.2025146484373,
          1782.3123779296875,
          1933.499755859375,
          1808.2025146484373,
          1784.296875,
          1769.0211181640625,
          1772.251708984375,
          1809.4024658203125,
          1993.9561767578125,
          1823.939697265625,
          1788.1273193359375,
          1765.8367919921875,
          1848.35302734375,
          1832.5235595703125,
          1765.8367919921875,
          1808.2025146484373,
          1769.0211181640625,
          1993.9561767578125,
          1765.8367919921875,
          1834.877197265625,
          1811.98681640625,
          1777.8819580078125,
          1788.1273193359375,
          2042.7366943359373,
          2072.0419921875,
          1987.6798095703125,
          2072.0419921875,
          2001.89404296875,
          2039.5062255859373,
          2064.98095703125,
          2072.0419921875,
          1987.6798095703125,
          2072.0419921875,
          1987.6798095703125,
          1927.0386962890625,
          1948.1292724609373,
          1942.4066162109373,
          2072.0419921875,
          1987.6798095703125,
          1987.6798095703125,
          2055.889404296875,
          1987.6798095703125,
          2072.0419921875,
          2014.9083251953125,
          2072.0419921875,
          1987.6798095703125,
          2064.98095703125,
          1942.4066162109373,
          2041.3060302734373,
          1987.6798095703125,
          2064.98095703125,
          2064.98095703125,
          2042.7366943359373,
          2054.366455078125,
          2072.0419921875,
          1987.6798095703125,
          2001.89404296875,
          1987.6798095703125,
          1942.4066162109373,
          1942.4066162109373,
          2055.889404296875,
          1942.4066162109373,
          2054.366455078125,
          2072.0419921875,
          1942.4066162109373,
          1925.3773193359373,
          2076.749267578125,
          1984.6339111328125,
          1925.3773193359373,
          1880.473388671875,
          1948.1292724609373,
          1923.6236572265625,
          1878.581298828125,
          1948.1292724609373,
          1949.7445068359373,
          1961.189697265625,
          1937.3302001953125,
          1943.5604248046875,
          1922.0084228515625,
          1922.0084228515625,
          1984.6339111328125,
          1949.7445068359373,
          1938.0224609375,
          1965.1124267578125,
          1916.931884765625,
          1938.0224609375,
          1923.6236572265625,
          1936.4072265625,
          1895.1490478515625,
          1965.1124267578125,
          1936.4072265625,
          1949.7445068359373,
          1957.4053955078125,
          1957.4053955078125,
          1896.7642822265625,
          1932.57666015625,
          1925.3773193359373,
          1931.4691162109373,
          1911.7169189453125,
          1928.1925048828125,
          1927.26953125,
          1928.1925048828125,
          1982.8341064453125,
          1928.1925048828125,
          2058.70458984375,
          2006.1397705078125,
          1917.208740234375,
          1969.912109375,
          2006.1397705078125,
          1917.208740234375,
          1878.581298828125,
          1927.26953125,
          2015.554443359375,
          1969.912109375,
          2015.554443359375,
          1927.26953125,
          1969.912109375,
          1969.912109375,
          1982.8341064453125,
          1926.9925537109373,
          2006.1397705078125,
          1941.7606201171875,
          1941.7606201171875,
          1997.60205078125,
          1928.1925048828125,
          1980.4342041015625,
          1912.9168701171875,
          1982.8341064453125,
          2005.355224609375,
          1941.7606201171875,
          1980.4342041015625,
          2006.1397705078125,
          1927.26953125,
          1926.9925537109373,
          1997.60205078125,
          1878.581298828125,
          1912.9168701171875,
          1928.1925048828125,
          2005.355224609375,
          2005.355224609375,
          2188.93994140625,
          2095.43994140625,
          2204.584716796875,
          2244.13525390625,
          2117.73046875,
          2204.584716796875,
          2188.93994140625,
          2298.177001953125,
          2204.584716796875,
          2186.07861328125,
          2241.227783203125,
          2117.73046875,
          2351.849365234375,
          2204.584716796875,
          2186.07861328125,
          2238.828125,
          2204.584716796875,
          2186.07861328125,
          2238.828125,
          2298.177001953125,
          2204.584716796875,
          2117.73046875,
          2188.93994140625,
          2241.227783203125,
          2238.828125,
          2209.984375,
          2206.476806640625,
          2084.271728515625,
          2238.828125,
          2238.828125,
          2186.07861328125,
          2241.227783203125,
          2238.828125,
          2448.39501953125,
          2362.74072265625,
          2465.56298828125,
          2362.74072265625,
          2425.08935546875,
          2374.324462890625,
          2492.46826171875,
          2448.39501953125,
          2462.37841796875,
          2408.290771484375,
          2487.43798828125,
          2362.74072265625,
          2487.43798828125,
          2351.849365234375,
          2487.43798828125,
          2521.49658203125,
          2374.324462890625,
          2374.324462890625,
          2448.39501953125,
          2448.39501953125,
          2374.324462890625,
          2359.32568359375,
          2351.849365234375,
          2492.46826171875,
          2492.46826171875,
          2499.114013671875,
          2492.46826171875,
          2333.204833984375,
          2408.290771484375,
          2374.324462890625,
          2487.43798828125,
          2374.324462890625,
          2351.849365234375,
          2448.39501953125,
          2448.39501953125
         ]
        },
        {
         "marker": {
          "color": "green",
          "size": 10,
          "symbol": "triangle-up"
         },
         "mode": "markers",
         "name": "Buy Signal",
         "type": "scatter",
         "x": [
          "2021-01-14",
          "2021-07-14",
          "2021-07-30",
          "2021-08-13",
          "2021-10-22"
         ],
         "y": [
          1809.6331787109373,
          1925.3773193359373,
          1878.581298828125,
          1980.4342041015625,
          2425.08935546875
         ]
        },
        {
         "marker": {
          "color": "red",
          "size": 10,
          "symbol": "triangle-down"
         },
         "mode": "markers",
         "name": "Sell Signal",
         "type": "scatter",
         "x": [
          "2021-06-15",
          "2021-08-26",
          "2021-08-03",
          "2021-10-06"
         ],
         "y": [
          2076.749267578125,
          2058.70458984375,
          1926.9925537109373,
          2362.74072265625
         ]
        }
       ],
       "layout": {
        "hovermode": "x",
        "legend": {
         "title": {
          "text": "Legend"
         }
        },
        "template": {
         "data": {
          "bar": [
           {
            "error_x": {
             "color": "#2a3f5f"
            },
            "error_y": {
             "color": "#2a3f5f"
            },
            "marker": {
             "line": {
              "color": "#E5ECF6",
              "width": 0.5
             },
             "pattern": {
              "fillmode": "overlay",
              "size": 10,
              "solidity": 0.2
             }
            },
            "type": "bar"
           }
          ],
          "barpolar": [
           {
            "marker": {
             "line": {
              "color": "#E5ECF6",
              "width": 0.5
             },
             "pattern": {
              "fillmode": "overlay",
              "size": 10,
              "solidity": 0.2
             }
            },
            "type": "barpolar"
           }
          ],
          "carpet": [
           {
            "aaxis": {
             "endlinecolor": "#2a3f5f",
             "gridcolor": "white",
             "linecolor": "white",
             "minorgridcolor": "white",
             "startlinecolor": "#2a3f5f"
            },
            "baxis": {
             "endlinecolor": "#2a3f5f",
             "gridcolor": "white",
             "linecolor": "white",
             "minorgridcolor": "white",
             "startlinecolor": "#2a3f5f"
            },
            "type": "carpet"
           }
          ],
          "choropleth": [
           {
            "colorbar": {
             "outlinewidth": 0,
             "ticks": ""
            },
            "type": "choropleth"
           }
          ],
          "contour": [
           {
            "colorbar": {
             "outlinewidth": 0,
             "ticks": ""
            },
            "colorscale": [
             [
              0,
              "#0d0887"
             ],
             [
              0.1111111111111111,
              "#46039f"
             ],
             [
              0.2222222222222222,
              "#7201a8"
             ],
             [
              0.3333333333333333,
              "#9c179e"
             ],
             [
              0.4444444444444444,
              "#bd3786"
             ],
             [
              0.5555555555555556,
              "#d8576b"
             ],
             [
              0.6666666666666666,
              "#ed7953"
             ],
             [
              0.7777777777777778,
              "#fb9f3a"
             ],
             [
              0.8888888888888888,
              "#fdca26"
             ],
             [
              1,
              "#f0f921"
             ]
            ],
            "type": "contour"
           }
          ],
          "contourcarpet": [
           {
            "colorbar": {
             "outlinewidth": 0,
             "ticks": ""
            },
            "type": "contourcarpet"
           }
          ],
          "heatmap": [
           {
            "colorbar": {
             "outlinewidth": 0,
             "ticks": ""
            },
            "colorscale": [
             [
              0,
              "#0d0887"
             ],
             [
              0.1111111111111111,
              "#46039f"
             ],
             [
              0.2222222222222222,
              "#7201a8"
             ],
             [
              0.3333333333333333,
              "#9c179e"
             ],
             [
              0.4444444444444444,
              "#bd3786"
             ],
             [
              0.5555555555555556,
              "#d8576b"
             ],
             [
              0.6666666666666666,
              "#ed7953"
             ],
             [
              0.7777777777777778,
              "#fb9f3a"
             ],
             [
              0.8888888888888888,
              "#fdca26"
             ],
             [
              1,
              "#f0f921"
             ]
            ],
            "type": "heatmap"
           }
          ],
          "heatmapgl": [
           {
            "colorbar": {
             "outlinewidth": 0,
             "ticks": ""
            },
            "colorscale": [
             [
              0,
              "#0d0887"
             ],
             [
              0.1111111111111111,
              "#46039f"
             ],
             [
              0.2222222222222222,
              "#7201a8"
             ],
             [
              0.3333333333333333,
              "#9c179e"
             ],
             [
              0.4444444444444444,
              "#bd3786"
             ],
             [
              0.5555555555555556,
              "#d8576b"
             ],
             [
              0.6666666666666666,
              "#ed7953"
             ],
             [
              0.7777777777777778,
              "#fb9f3a"
             ],
             [
              0.8888888888888888,
              "#fdca26"
             ],
             [
              1,
              "#f0f921"
             ]
            ],
            "type": "heatmapgl"
           }
          ],
          "histogram": [
           {
            "marker": {
             "pattern": {
              "fillmode": "overlay",
              "size": 10,
              "solidity": 0.2
             }
            },
            "type": "histogram"
           }
          ],
          "histogram2d": [
           {
            "colorbar": {
             "outlinewidth": 0,
             "ticks": ""
            },
            "colorscale": [
             [
              0,
              "#0d0887"
             ],
             [
              0.1111111111111111,
              "#46039f"
             ],
             [
              0.2222222222222222,
              "#7201a8"
             ],
             [
              0.3333333333333333,
              "#9c179e"
             ],
             [
              0.4444444444444444,
              "#bd3786"
             ],
             [
              0.5555555555555556,
              "#d8576b"
             ],
             [
              0.6666666666666666,
              "#ed7953"
             ],
             [
              0.7777777777777778,
              "#fb9f3a"
             ],
             [
              0.8888888888888888,
              "#fdca26"
             ],
             [
              1,
              "#f0f921"
             ]
            ],
            "type": "histogram2d"
           }
          ],
          "histogram2dcontour": [
           {
            "colorbar": {
             "outlinewidth": 0,
             "ticks": ""
            },
            "colorscale": [
             [
              0,
              "#0d0887"
             ],
             [
              0.1111111111111111,
              "#46039f"
             ],
             [
              0.2222222222222222,
              "#7201a8"
             ],
             [
              0.3333333333333333,
              "#9c179e"
             ],
             [
              0.4444444444444444,
              "#bd3786"
             ],
             [
              0.5555555555555556,
              "#d8576b"
             ],
             [
              0.6666666666666666,
              "#ed7953"
             ],
             [
              0.7777777777777778,
              "#fb9f3a"
             ],
             [
              0.8888888888888888,
              "#fdca26"
             ],
             [
              1,
              "#f0f921"
             ]
            ],
            "type": "histogram2dcontour"
           }
          ],
          "mesh3d": [
           {
            "colorbar": {
             "outlinewidth": 0,
             "ticks": ""
            },
            "type": "mesh3d"
           }
          ],
          "parcoords": [
           {
            "line": {
             "colorbar": {
              "outlinewidth": 0,
              "ticks": ""
             }
            },
            "type": "parcoords"
           }
          ],
          "pie": [
           {
            "automargin": true,
            "type": "pie"
           }
          ],
          "scatter": [
           {
            "fillpattern": {
             "fillmode": "overlay",
             "size": 10,
             "solidity": 0.2
            },
            "type": "scatter"
           }
          ],
          "scatter3d": [
           {
            "line": {
             "colorbar": {
              "outlinewidth": 0,
              "ticks": ""
             }
            },
            "marker": {
             "colorbar": {
              "outlinewidth": 0,
              "ticks": ""
             }
            },
            "type": "scatter3d"
           }
          ],
          "scattercarpet": [
           {
            "marker": {
             "colorbar": {
              "outlinewidth": 0,
              "ticks": ""
             }
            },
            "type": "scattercarpet"
           }
          ],
          "scattergeo": [
           {
            "marker": {
             "colorbar": {
              "outlinewidth": 0,
              "ticks": ""
             }
            },
            "type": "scattergeo"
           }
          ],
          "scattergl": [
           {
            "marker": {
             "colorbar": {
              "outlinewidth": 0,
              "ticks": ""
             }
            },
            "type": "scattergl"
           }
          ],
          "scattermapbox": [
           {
            "marker": {
             "colorbar": {
              "outlinewidth": 0,
              "ticks": ""
             }
            },
            "type": "scattermapbox"
           }
          ],
          "scatterpolar": [
           {
            "marker": {
             "colorbar": {
              "outlinewidth": 0,
              "ticks": ""
             }
            },
            "type": "scatterpolar"
           }
          ],
          "scatterpolargl": [
           {
            "marker": {
             "colorbar": {
              "outlinewidth": 0,
              "ticks": ""
             }
            },
            "type": "scatterpolargl"
           }
          ],
          "scatterternary": [
           {
            "marker": {
             "colorbar": {
              "outlinewidth": 0,
              "ticks": ""
             }
            },
            "type": "scatterternary"
           }
          ],
          "surface": [
           {
            "colorbar": {
             "outlinewidth": 0,
             "ticks": ""
            },
            "colorscale": [
             [
              0,
              "#0d0887"
             ],
             [
              0.1111111111111111,
              "#46039f"
             ],
             [
              0.2222222222222222,
              "#7201a8"
             ],
             [
              0.3333333333333333,
              "#9c179e"
             ],
             [
              0.4444444444444444,
              "#bd3786"
             ],
             [
              0.5555555555555556,
              "#d8576b"
             ],
             [
              0.6666666666666666,
              "#ed7953"
             ],
             [
              0.7777777777777778,
              "#fb9f3a"
             ],
             [
              0.8888888888888888,
              "#fdca26"
             ],
             [
              1,
              "#f0f921"
             ]
            ],
            "type": "surface"
           }
          ],
          "table": [
           {
            "cells": {
             "fill": {
              "color": "#EBF0F8"
             },
             "line": {
              "color": "white"
             }
            },
            "header": {
             "fill": {
              "color": "#C8D4E3"
             },
             "line": {
              "color": "white"
             }
            },
            "type": "table"
           }
          ]
         },
         "layout": {
          "annotationdefaults": {
           "arrowcolor": "#2a3f5f",
           "arrowhead": 0,
           "arrowwidth": 1
          },
          "autotypenumbers": "strict",
          "coloraxis": {
           "colorbar": {
            "outlinewidth": 0,
            "ticks": ""
           }
          },
          "colorscale": {
           "diverging": [
            [
             0,
             "#8e0152"
            ],
            [
             0.1,
             "#c51b7d"
            ],
            [
             0.2,
             "#de77ae"
            ],
            [
             0.3,
             "#f1b6da"
            ],
            [
             0.4,
             "#fde0ef"
            ],
            [
             0.5,
             "#f7f7f7"
            ],
            [
             0.6,
             "#e6f5d0"
            ],
            [
             0.7,
             "#b8e186"
            ],
            [
             0.8,
             "#7fbc41"
            ],
            [
             0.9,
             "#4d9221"
            ],
            [
             1,
             "#276419"
            ]
           ],
           "sequential": [
            [
             0,
             "#0d0887"
            ],
            [
             0.1111111111111111,
             "#46039f"
            ],
            [
             0.2222222222222222,
             "#7201a8"
            ],
            [
             0.3333333333333333,
             "#9c179e"
            ],
            [
             0.4444444444444444,
             "#bd3786"
            ],
            [
             0.5555555555555556,
             "#d8576b"
            ],
            [
             0.6666666666666666,
             "#ed7953"
            ],
            [
             0.7777777777777778,
             "#fb9f3a"
            ],
            [
             0.8888888888888888,
             "#fdca26"
            ],
            [
             1,
             "#f0f921"
            ]
           ],
           "sequentialminus": [
            [
             0,
             "#0d0887"
            ],
            [
             0.1111111111111111,
             "#46039f"
            ],
            [
             0.2222222222222222,
             "#7201a8"
            ],
            [
             0.3333333333333333,
             "#9c179e"
            ],
            [
             0.4444444444444444,
             "#bd3786"
            ],
            [
             0.5555555555555556,
             "#d8576b"
            ],
            [
             0.6666666666666666,
             "#ed7953"
            ],
            [
             0.7777777777777778,
             "#fb9f3a"
            ],
            [
             0.8888888888888888,
             "#fdca26"
            ],
            [
             1,
             "#f0f921"
            ]
           ]
          },
          "colorway": [
           "#636efa",
           "#EF553B",
           "#00cc96",
           "#ab63fa",
           "#FFA15A",
           "#19d3f3",
           "#FF6692",
           "#B6E880",
           "#FF97FF",
           "#FECB52"
          ],
          "font": {
           "color": "#2a3f5f"
          },
          "geo": {
           "bgcolor": "white",
           "lakecolor": "white",
           "landcolor": "#E5ECF6",
           "showlakes": true,
           "showland": true,
           "subunitcolor": "white"
          },
          "hoverlabel": {
           "align": "left"
          },
          "hovermode": "closest",
          "mapbox": {
           "style": "light"
          },
          "paper_bgcolor": "white",
          "plot_bgcolor": "#E5ECF6",
          "polar": {
           "angularaxis": {
            "gridcolor": "white",
            "linecolor": "white",
            "ticks": ""
           },
           "bgcolor": "#E5ECF6",
           "radialaxis": {
            "gridcolor": "white",
            "linecolor": "white",
            "ticks": ""
           }
          },
          "scene": {
           "xaxis": {
            "backgroundcolor": "#E5ECF6",
            "gridcolor": "white",
            "gridwidth": 2,
            "linecolor": "white",
            "showbackground": true,
            "ticks": "",
            "zerolinecolor": "white"
           },
           "yaxis": {
            "backgroundcolor": "#E5ECF6",
            "gridcolor": "white",
            "gridwidth": 2,
            "linecolor": "white",
            "showbackground": true,
            "ticks": "",
            "zerolinecolor": "white"
           },
           "zaxis": {
            "backgroundcolor": "#E5ECF6",
            "gridcolor": "white",
            "gridwidth": 2,
            "linecolor": "white",
            "showbackground": true,
            "ticks": "",
            "zerolinecolor": "white"
           }
          },
          "shapedefaults": {
           "line": {
            "color": "#2a3f5f"
           }
          },
          "ternary": {
           "aaxis": {
            "gridcolor": "white",
            "linecolor": "white",
            "ticks": ""
           },
           "baxis": {
            "gridcolor": "white",
            "linecolor": "white",
            "ticks": ""
           },
           "bgcolor": "#E5ECF6",
           "caxis": {
            "gridcolor": "white",
            "linecolor": "white",
            "ticks": ""
           }
          },
          "title": {
           "x": 0.05
          },
          "xaxis": {
           "automargin": true,
           "gridcolor": "white",
           "linecolor": "white",
           "ticks": "",
           "title": {
            "standoff": 15
           },
           "zerolinecolor": "white",
           "zerolinewidth": 2
          },
          "yaxis": {
           "automargin": true,
           "gridcolor": "white",
           "linecolor": "white",
           "ticks": "",
           "title": {
            "standoff": 15
           },
           "zerolinecolor": "white",
           "zerolinewidth": 2
          }
         }
        },
        "title": {
         "text": "Stock Price with Buy and Sell Signals for Reliance Industries"
        },
        "xaxis": {
         "title": {
          "text": "Date"
         }
        },
        "yaxis": {
         "title": {
          "text": "Price"
         }
        }
       }
      }
     },
     "metadata": {},
     "output_type": "display_data"
    }
   ],
   "source": [
    "final(0.03, 10000)"
   ]
  },
  {
   "cell_type": "code",
   "execution_count": null,
   "id": "6b1c69d1",
   "metadata": {},
   "outputs": [],
   "source": []
  }
 ],
 "metadata": {
  "kernelspec": {
   "display_name": "Python 3 (ipykernel)",
   "language": "python",
   "name": "python3"
  },
  "language_info": {
   "codemirror_mode": {
    "name": "ipython",
    "version": 3
   },
   "file_extension": ".py",
   "mimetype": "text/x-python",
   "name": "python",
   "nbconvert_exporter": "python",
   "pygments_lexer": "ipython3",
   "version": "3.12.2"
  }
 },
 "nbformat": 4,
 "nbformat_minor": 5
}
